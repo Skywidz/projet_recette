{
 "cells": [
  {
   "cell_type": "code",
   "execution_count": 3,
   "metadata": {},
   "outputs": [],
   "source": [
    "import requests\n",
    "import pandas as pd\n",
    "\n",
    "ENDPOINT = \"http://162.19.108.77:8000\""
   ]
  },
  {
   "cell_type": "code",
   "execution_count": 30,
   "metadata": {},
   "outputs": [],
   "source": [
    "url = f'{ENDPOINT}/recipe_urls'\n",
    "body = {\"name\": \"tarte aux pommes\"}\n",
    "r = requests.post(url, json=body)"
   ]
  },
  {
   "cell_type": "code",
   "execution_count": 31,
   "metadata": {},
   "outputs": [
    {
     "data": {
      "text/plain": [
       "200"
      ]
     },
     "execution_count": 31,
     "metadata": {},
     "output_type": "execute_result"
    }
   ],
   "source": [
    "r.status_code"
   ]
  },
  {
   "cell_type": "code",
   "execution_count": 32,
   "metadata": {},
   "outputs": [
    {
     "data": {
      "text/plain": [
       "b'[\"https://www.marmiton.org/recettes/recette_tarte-aux-pommes-a-l-alsacienne_11457.aspx\",\"https://www.marmiton.org/recettes/recette_tarte-aux-pommes_18588.aspx\",\"https://www.marmiton.org/recettes/recette_tarte-pommes-rapees-citrons_18437.aspx\",\"https://www.marmiton.org/recettes/recette_tarte-crumble-aux-pommes_37128.aspx\",\"https://www.marmiton.org/recettes/recette_tarte-aux-pommes-facile_92486.aspx\",\"https://www.marmiton.org/recettes/recette_tarte-pommes-amandes-et-chocolat_38664.aspx\",\"https://www.marmiton.org/recettes/recette_tarte-aux-pommes-normande-de-mag-16eme-rencontre-marmiton_35497.aspx\",\"https://www.marmiton.org/recettes/recette_tarte-aux-pommes-de-terre-et-au-roquefort_26889.aspx\",\"https://www.marmiton.org/recettes/recette_tarte-aux-pommes-miel-et-amandes_15227.aspx\",\"https://www.marmiton.org/recettes/recette_tarte-meringuee-aux-pommes-et-aux-poires_37495.aspx\",\"https://www.marmiton.org/recettes/recette_tarte-aux-pommes-et-a-la-noix-de-coco_18921.aspx\",\"https://www.marmiton.org/recettes/recette_tarte-creole-aux-pommes_20882.aspx\"]'"
      ]
     },
     "execution_count": 32,
     "metadata": {},
     "output_type": "execute_result"
    }
   ],
   "source": [
    "r.content"
   ]
  },
  {
   "cell_type": "code",
   "execution_count": 33,
   "metadata": {},
   "outputs": [
    {
     "data": {
      "text/plain": [
       "['https://www.marmiton.org/recettes/recette_tarte-aux-pommes-a-l-alsacienne_11457.aspx',\n",
       " 'https://www.marmiton.org/recettes/recette_tarte-aux-pommes_18588.aspx',\n",
       " 'https://www.marmiton.org/recettes/recette_tarte-pommes-rapees-citrons_18437.aspx',\n",
       " 'https://www.marmiton.org/recettes/recette_tarte-crumble-aux-pommes_37128.aspx',\n",
       " 'https://www.marmiton.org/recettes/recette_tarte-aux-pommes-facile_92486.aspx',\n",
       " 'https://www.marmiton.org/recettes/recette_tarte-pommes-amandes-et-chocolat_38664.aspx',\n",
       " 'https://www.marmiton.org/recettes/recette_tarte-aux-pommes-normande-de-mag-16eme-rencontre-marmiton_35497.aspx',\n",
       " 'https://www.marmiton.org/recettes/recette_tarte-aux-pommes-de-terre-et-au-roquefort_26889.aspx',\n",
       " 'https://www.marmiton.org/recettes/recette_tarte-aux-pommes-miel-et-amandes_15227.aspx',\n",
       " 'https://www.marmiton.org/recettes/recette_tarte-meringuee-aux-pommes-et-aux-poires_37495.aspx',\n",
       " 'https://www.marmiton.org/recettes/recette_tarte-aux-pommes-et-a-la-noix-de-coco_18921.aspx',\n",
       " 'https://www.marmiton.org/recettes/recette_tarte-creole-aux-pommes_20882.aspx']"
      ]
     },
     "execution_count": 33,
     "metadata": {},
     "output_type": "execute_result"
    }
   ],
   "source": [
    "data = r.json()\n",
    "data"
   ]
  },
  {
   "cell_type": "code",
   "execution_count": 34,
   "metadata": {},
   "outputs": [
    {
     "data": {
      "text/plain": [
       "'https://www.marmiton.org/recettes/recette_tarte-aux-pommes_18588.aspx'"
      ]
     },
     "execution_count": 34,
     "metadata": {},
     "output_type": "execute_result"
    }
   ],
   "source": [
    "data[1]"
   ]
  },
  {
   "cell_type": "code",
   "execution_count": 35,
   "metadata": {},
   "outputs": [],
   "source": [
    "url = f'{ENDPOINT}/ingredients_marmiton/'\n",
    "body = { \"url\": data[1]}\n",
    "r = requests.post(url, json=body)"
   ]
  },
  {
   "cell_type": "code",
   "execution_count": 36,
   "metadata": {},
   "outputs": [
    {
     "data": {
      "text/plain": [
       "200"
      ]
     },
     "execution_count": 36,
     "metadata": {},
     "output_type": "execute_result"
    }
   ],
   "source": [
    "r.status_code"
   ]
  },
  {
   "cell_type": "code",
   "execution_count": 37,
   "metadata": {},
   "outputs": [
    {
     "data": {
      "text/plain": [
       "b'[\"1 p\\xc3\\xa2te bris\\xc3\\xa9e \",\"1\\xc2\\xa0sachet de sucre vanill\\xc3\\xa9 \",\"30\\xc2\\xa0g de beurre \",\"6 pommes Golden\"]'"
      ]
     },
     "execution_count": 37,
     "metadata": {},
     "output_type": "execute_result"
    }
   ],
   "source": [
    "r.content"
   ]
  },
  {
   "cell_type": "code",
   "execution_count": 38,
   "metadata": {},
   "outputs": [
    {
     "data": {
      "text/plain": [
       "['1 pâte brisée ',\n",
       " '1\\xa0sachet de sucre vanillé ',\n",
       " '30\\xa0g de beurre ',\n",
       " '6 pommes Golden']"
      ]
     },
     "execution_count": 38,
     "metadata": {},
     "output_type": "execute_result"
    }
   ],
   "source": [
    "data = r.json()\n",
    "data"
   ]
  },
  {
   "cell_type": "code",
   "execution_count": 39,
   "metadata": {},
   "outputs": [],
   "source": [
    "import json\n",
    "with open(\"credentials.json\") as f:\n",
    "    credentials = json.load(f)\n",
    "    token = credentials[\"token\"]"
   ]
  },
  {
   "cell_type": "code",
   "execution_count": 40,
   "metadata": {},
   "outputs": [
    {
     "data": {
      "text/plain": [
       "'Quota used: 2/3'"
      ]
     },
     "execution_count": 40,
     "metadata": {},
     "output_type": "execute_result"
    }
   ],
   "source": [
    "url = ENDPOINT + \"/quota/\"\n",
    "headers = {\"Authorization\": f\"Token {token}\"}\n",
    "\n",
    "r = requests.get(url, headers=headers)\n",
    "r.json()"
   ]
  },
  {
   "cell_type": "code",
   "execution_count": 41,
   "metadata": {},
   "outputs": [
    {
     "data": {
      "text/plain": [
       "200"
      ]
     },
     "execution_count": 41,
     "metadata": {},
     "output_type": "execute_result"
    }
   ],
   "source": [
    "url = ENDPOINT + \"/ingredients_recipe/\"\n",
    "body = {\"name\": \"tarte aux pommes\"}\n",
    "headers = {\"Authorization\": f\"Token {token}\"}\n",
    "\n",
    "r = requests.post(url, json=body, headers=headers)\n",
    "r.status_code"
   ]
  },
  {
   "cell_type": "code",
   "execution_count": 42,
   "metadata": {},
   "outputs": [
    {
     "data": {
      "text/plain": [
       "'[{\"ingredient\":\"p\\\\u00e2te bris\\\\u00e9e\",\"Code\\\\nAGB\":\"23410\",\"mass\":200},{\"ingredient\":\"cr\\\\u00e8me fra\\\\u00eeche\",\"Code\\\\nAGB\":\"19431\",\"mass\":250},{\"ingredient\":\"sucre en poudre\",\"Code\\\\nAGB\":\"31016\",\"mass\":100},{\"ingredient\":\"sucre vanill\\\\u00e9\",\"Code\\\\nAGB\":\"31044\",\"mass\":10},{\"ingredient\":\"pommes\",\"Code\\\\nAGB\":\"4020\",\"mass\":450},{\"ingredient\":\"oeufs\",\"Code\\\\nAGB\":\"22000\",\"mass\":100}]'"
      ]
     },
     "execution_count": 42,
     "metadata": {},
     "output_type": "execute_result"
    }
   ],
   "source": [
    "r.json()"
   ]
  },
  {
   "cell_type": "code",
   "execution_count": 43,
   "metadata": {},
   "outputs": [
    {
     "data": {
      "text/html": [
       "<div>\n",
       "<style scoped>\n",
       "    .dataframe tbody tr th:only-of-type {\n",
       "        vertical-align: middle;\n",
       "    }\n",
       "\n",
       "    .dataframe tbody tr th {\n",
       "        vertical-align: top;\n",
       "    }\n",
       "\n",
       "    .dataframe thead th {\n",
       "        text-align: right;\n",
       "    }\n",
       "</style>\n",
       "<table border=\"1\" class=\"dataframe\">\n",
       "  <thead>\n",
       "    <tr style=\"text-align: right;\">\n",
       "      <th></th>\n",
       "      <th>ingredient</th>\n",
       "      <th>Code\\nAGB</th>\n",
       "      <th>mass</th>\n",
       "    </tr>\n",
       "  </thead>\n",
       "  <tbody>\n",
       "    <tr>\n",
       "      <th>0</th>\n",
       "      <td>pâte brisée</td>\n",
       "      <td>23410</td>\n",
       "      <td>200</td>\n",
       "    </tr>\n",
       "    <tr>\n",
       "      <th>1</th>\n",
       "      <td>crème fraîche</td>\n",
       "      <td>19431</td>\n",
       "      <td>250</td>\n",
       "    </tr>\n",
       "    <tr>\n",
       "      <th>2</th>\n",
       "      <td>sucre en poudre</td>\n",
       "      <td>31016</td>\n",
       "      <td>100</td>\n",
       "    </tr>\n",
       "    <tr>\n",
       "      <th>3</th>\n",
       "      <td>sucre vanillé</td>\n",
       "      <td>31044</td>\n",
       "      <td>10</td>\n",
       "    </tr>\n",
       "    <tr>\n",
       "      <th>4</th>\n",
       "      <td>pommes</td>\n",
       "      <td>4020</td>\n",
       "      <td>450</td>\n",
       "    </tr>\n",
       "    <tr>\n",
       "      <th>5</th>\n",
       "      <td>oeufs</td>\n",
       "      <td>22000</td>\n",
       "      <td>100</td>\n",
       "    </tr>\n",
       "  </tbody>\n",
       "</table>\n",
       "</div>"
      ],
      "text/plain": [
       "        ingredient  Code\\nAGB  mass\n",
       "0      pâte brisée      23410   200\n",
       "1    crème fraîche      19431   250\n",
       "2  sucre en poudre      31016   100\n",
       "3    sucre vanillé      31044    10\n",
       "4           pommes       4020   450\n",
       "5            oeufs      22000   100"
      ]
     },
     "execution_count": 43,
     "metadata": {},
     "output_type": "execute_result"
    }
   ],
   "source": [
    "ingredients_recipe = pd.read_json(r.json(), orient=\"records\")\n",
    "ingredients_recipe.to_csv(\"../data/tarte_aux_pommes.csv\", sep=\";\", index=False)\n",
    "ingredients_recipe"
   ]
  },
  {
   "cell_type": "code",
   "execution_count": 4,
   "metadata": {},
   "outputs": [
    {
     "data": {
      "text/html": [
       "<div>\n",
       "<style scoped>\n",
       "    .dataframe tbody tr th:only-of-type {\n",
       "        vertical-align: middle;\n",
       "    }\n",
       "\n",
       "    .dataframe tbody tr th {\n",
       "        vertical-align: top;\n",
       "    }\n",
       "\n",
       "    .dataframe thead th {\n",
       "        text-align: right;\n",
       "    }\n",
       "</style>\n",
       "<table border=\"1\" class=\"dataframe\">\n",
       "  <thead>\n",
       "    <tr style=\"text-align: right;\">\n",
       "      <th></th>\n",
       "      <th>ingredient</th>\n",
       "      <th>Code\\nAGB</th>\n",
       "      <th>mass</th>\n",
       "    </tr>\n",
       "  </thead>\n",
       "  <tbody>\n",
       "    <tr>\n",
       "      <th>0</th>\n",
       "      <td>pâte brisée</td>\n",
       "      <td>23410</td>\n",
       "      <td>200</td>\n",
       "    </tr>\n",
       "    <tr>\n",
       "      <th>1</th>\n",
       "      <td>crème fraîche</td>\n",
       "      <td>19431</td>\n",
       "      <td>250</td>\n",
       "    </tr>\n",
       "    <tr>\n",
       "      <th>2</th>\n",
       "      <td>sucre en poudre</td>\n",
       "      <td>31016</td>\n",
       "      <td>100</td>\n",
       "    </tr>\n",
       "    <tr>\n",
       "      <th>3</th>\n",
       "      <td>sucre vanillé</td>\n",
       "      <td>31044</td>\n",
       "      <td>10</td>\n",
       "    </tr>\n",
       "    <tr>\n",
       "      <th>4</th>\n",
       "      <td>pommes</td>\n",
       "      <td>4020</td>\n",
       "      <td>450</td>\n",
       "    </tr>\n",
       "    <tr>\n",
       "      <th>5</th>\n",
       "      <td>oeufs</td>\n",
       "      <td>22000</td>\n",
       "      <td>100</td>\n",
       "    </tr>\n",
       "  </tbody>\n",
       "</table>\n",
       "</div>"
      ],
      "text/plain": [
       "        ingredient  Code\\nAGB  mass\n",
       "0      pâte brisée      23410   200\n",
       "1    crème fraîche      19431   250\n",
       "2  sucre en poudre      31016   100\n",
       "3    sucre vanillé      31044    10\n",
       "4           pommes       4020   450\n",
       "5            oeufs      22000   100"
      ]
     },
     "execution_count": 4,
     "metadata": {},
     "output_type": "execute_result"
    }
   ],
   "source": [
    "ingredients_recipe = pd.read_csv(\"/Users/skywidz/Desktop/PROJET_AGRO/data/tarte_aux_pommes.csv\", sep=\";\")\n",
    "ingredients_recipe"
   ]
  },
  {
   "cell_type": "code",
   "execution_count": 5,
   "metadata": {},
   "outputs": [
    {
     "name": "stdout",
     "output_type": "stream",
     "text": [
      "<class 'pandas.core.frame.DataFrame'>\n",
      "RangeIndex: 6 entries, 0 to 5\n",
      "Data columns (total 3 columns):\n",
      " #   Column      Non-Null Count  Dtype \n",
      "---  ------      --------------  ----- \n",
      " 0   ingredient  6 non-null      object\n",
      " 1   Code\n",
      "AGB    6 non-null      int64 \n",
      " 2   mass        6 non-null      int64 \n",
      "dtypes: int64(2), object(1)\n",
      "memory usage: 272.0+ bytes\n"
     ]
    }
   ],
   "source": [
    "ingredients_recipe.info()"
   ]
  },
  {
   "cell_type": "code",
   "execution_count": 6,
   "metadata": {},
   "outputs": [
    {
     "name": "stdout",
     "output_type": "stream",
     "text": [
      "<class 'pandas.core.frame.DataFrame'>\n",
      "RangeIndex: 6 entries, 0 to 5\n",
      "Data columns (total 3 columns):\n",
      " #   Column      Non-Null Count  Dtype \n",
      "---  ------      --------------  ----- \n",
      " 0   ingredient  6 non-null      object\n",
      " 1   Code\n",
      "AGB    6 non-null      object\n",
      " 2   mass        6 non-null      int64 \n",
      "dtypes: int64(1), object(2)\n",
      "memory usage: 272.0+ bytes\n"
     ]
    }
   ],
   "source": [
    "ingredients_recipe['Code\\nAGB'] = ingredients_recipe['Code\\nAGB'].astype(str)\n",
    "ingredients_recipe.info()"
   ]
  },
  {
   "cell_type": "code",
   "execution_count": 7,
   "metadata": {},
   "outputs": [
    {
     "data": {
      "text/html": [
       "<div>\n",
       "<style scoped>\n",
       "    .dataframe tbody tr th:only-of-type {\n",
       "        vertical-align: middle;\n",
       "    }\n",
       "\n",
       "    .dataframe tbody tr th {\n",
       "        vertical-align: top;\n",
       "    }\n",
       "\n",
       "    .dataframe thead th {\n",
       "        text-align: right;\n",
       "    }\n",
       "</style>\n",
       "<table border=\"1\" class=\"dataframe\">\n",
       "  <thead>\n",
       "    <tr style=\"text-align: right;\">\n",
       "      <th></th>\n",
       "      <th>Code\\nAGB</th>\n",
       "      <th>Code\\nCIQUAL</th>\n",
       "      <th>Groupe d'aliment</th>\n",
       "      <th>Sous-groupe d'aliment</th>\n",
       "      <th>Nom du Produit en Français</th>\n",
       "      <th>LCI Name</th>\n",
       "      <th>code saison (0 : hors saison ; 1 : de saison ; 2 : mix de consommation FR)</th>\n",
       "      <th>code avion (1 : par avion)</th>\n",
       "      <th>Livraison</th>\n",
       "      <th>Matériau d'emballage</th>\n",
       "      <th>...</th>\n",
       "      <th>CTUh/kg de produit.1</th>\n",
       "      <th>mol H+ eq/kg de produit</th>\n",
       "      <th>kg P eq/kg de produit</th>\n",
       "      <th>kg N eq/kg de produit</th>\n",
       "      <th>mol N eq/kg de produit</th>\n",
       "      <th>CTUe/kg de produit</th>\n",
       "      <th>Pt/kg de produit</th>\n",
       "      <th>m3 depriv./kg de produit</th>\n",
       "      <th>MJ/kg de produit</th>\n",
       "      <th>kg Sb eq/kg de produit</th>\n",
       "    </tr>\n",
       "  </thead>\n",
       "  <tbody>\n",
       "    <tr>\n",
       "      <th>0</th>\n",
       "      <td>11084</td>\n",
       "      <td>11084</td>\n",
       "      <td>aides culinaires et ingrédients divers</td>\n",
       "      <td>algues</td>\n",
       "      <td>Agar (algue), cru</td>\n",
       "      <td>Seaweed, agar, raw</td>\n",
       "      <td>2</td>\n",
       "      <td>0</td>\n",
       "      <td>Ambiant (long)</td>\n",
       "      <td>LDPE</td>\n",
       "      <td>...</td>\n",
       "      <td>6.482667e-09</td>\n",
       "      <td>0.099733</td>\n",
       "      <td>0.001868</td>\n",
       "      <td>0.013280</td>\n",
       "      <td>0.127350</td>\n",
       "      <td>44.555153</td>\n",
       "      <td>26.476190</td>\n",
       "      <td>3.102487</td>\n",
       "      <td>315.057170</td>\n",
       "      <td>0.000088</td>\n",
       "    </tr>\n",
       "    <tr>\n",
       "      <th>1</th>\n",
       "      <td>11023</td>\n",
       "      <td>11023</td>\n",
       "      <td>aides culinaires et ingrédients divers</td>\n",
       "      <td>herbes</td>\n",
       "      <td>Ail séché, poudre</td>\n",
       "      <td>Garlic, powder, dried</td>\n",
       "      <td>2</td>\n",
       "      <td>0</td>\n",
       "      <td>Ambiant (long)</td>\n",
       "      <td>Verre</td>\n",
       "      <td>...</td>\n",
       "      <td>4.662163e-10</td>\n",
       "      <td>0.006222</td>\n",
       "      <td>0.000124</td>\n",
       "      <td>0.002320</td>\n",
       "      <td>0.012695</td>\n",
       "      <td>5.832120</td>\n",
       "      <td>20.223652</td>\n",
       "      <td>2.520528</td>\n",
       "      <td>12.665447</td>\n",
       "      <td>0.000007</td>\n",
       "    </tr>\n",
       "    <tr>\n",
       "      <th>2</th>\n",
       "      <td>11000</td>\n",
       "      <td>11000</td>\n",
       "      <td>aides culinaires et ingrédients divers</td>\n",
       "      <td>herbes</td>\n",
       "      <td>Ail, cru</td>\n",
       "      <td>Garlic, fresh</td>\n",
       "      <td>2</td>\n",
       "      <td>0</td>\n",
       "      <td>Ambiant (long)</td>\n",
       "      <td>Pas d'emballage</td>\n",
       "      <td>...</td>\n",
       "      <td>2.984758e-10</td>\n",
       "      <td>0.002005</td>\n",
       "      <td>0.000068</td>\n",
       "      <td>0.002123</td>\n",
       "      <td>0.006281</td>\n",
       "      <td>4.092332</td>\n",
       "      <td>18.454615</td>\n",
       "      <td>3.021753</td>\n",
       "      <td>6.230187</td>\n",
       "      <td>0.000004</td>\n",
       "    </tr>\n",
       "    <tr>\n",
       "      <th>3</th>\n",
       "      <td>11093</td>\n",
       "      <td>11093</td>\n",
       "      <td>aides culinaires et ingrédients divers</td>\n",
       "      <td>herbes</td>\n",
       "      <td>Aneth, frais</td>\n",
       "      <td>Dill, fresh</td>\n",
       "      <td>2</td>\n",
       "      <td>0</td>\n",
       "      <td>Ambiant (long)</td>\n",
       "      <td>LDPE</td>\n",
       "      <td>...</td>\n",
       "      <td>6.189716e-10</td>\n",
       "      <td>0.008112</td>\n",
       "      <td>0.000203</td>\n",
       "      <td>0.004050</td>\n",
       "      <td>0.031181</td>\n",
       "      <td>5.681342</td>\n",
       "      <td>36.373722</td>\n",
       "      <td>5.292121</td>\n",
       "      <td>12.553109</td>\n",
       "      <td>0.000005</td>\n",
       "    </tr>\n",
       "    <tr>\n",
       "      <th>4</th>\n",
       "      <td>20995</td>\n",
       "      <td>20995</td>\n",
       "      <td>aides culinaires et ingrédients divers</td>\n",
       "      <td>algues</td>\n",
       "      <td>Ao-nori (Enteromorpha sp.), séchée ou déshydratée</td>\n",
       "      <td>Sea lettuce (Enteromorpha sp.), dried or dehyd...</td>\n",
       "      <td>2</td>\n",
       "      <td>0</td>\n",
       "      <td>Ambiant (long)</td>\n",
       "      <td>LDPE</td>\n",
       "      <td>...</td>\n",
       "      <td>6.482667e-09</td>\n",
       "      <td>0.099733</td>\n",
       "      <td>0.001868</td>\n",
       "      <td>0.013280</td>\n",
       "      <td>0.127350</td>\n",
       "      <td>44.555153</td>\n",
       "      <td>26.476190</td>\n",
       "      <td>3.102487</td>\n",
       "      <td>315.057170</td>\n",
       "      <td>0.000088</td>\n",
       "    </tr>\n",
       "    <tr>\n",
       "      <th>...</th>\n",
       "      <td>...</td>\n",
       "      <td>...</td>\n",
       "      <td>...</td>\n",
       "      <td>...</td>\n",
       "      <td>...</td>\n",
       "      <td>...</td>\n",
       "      <td>...</td>\n",
       "      <td>...</td>\n",
       "      <td>...</td>\n",
       "      <td>...</td>\n",
       "      <td>...</td>\n",
       "      <td>...</td>\n",
       "      <td>...</td>\n",
       "      <td>...</td>\n",
       "      <td>...</td>\n",
       "      <td>...</td>\n",
       "      <td>...</td>\n",
       "      <td>...</td>\n",
       "      <td>...</td>\n",
       "      <td>...</td>\n",
       "      <td>...</td>\n",
       "    </tr>\n",
       "    <tr>\n",
       "      <th>2512</th>\n",
       "      <td>6535</td>\n",
       "      <td>6535</td>\n",
       "      <td>viandes, œufs, poissons</td>\n",
       "      <td>viandes crues</td>\n",
       "      <td>Veau, steak haché 20% MG, cru</td>\n",
       "      <td>Veal, minced steak, 20% fat, raw</td>\n",
       "      <td>2</td>\n",
       "      <td>0</td>\n",
       "      <td>Glacé</td>\n",
       "      <td>PS</td>\n",
       "      <td>...</td>\n",
       "      <td>1.083839e-08</td>\n",
       "      <td>0.224717</td>\n",
       "      <td>0.002212</td>\n",
       "      <td>0.155523</td>\n",
       "      <td>0.960260</td>\n",
       "      <td>192.779240</td>\n",
       "      <td>1521.149300</td>\n",
       "      <td>6.276344</td>\n",
       "      <td>111.478480</td>\n",
       "      <td>0.000038</td>\n",
       "    </tr>\n",
       "    <tr>\n",
       "      <th>2513</th>\n",
       "      <td>6582</td>\n",
       "      <td>6582</td>\n",
       "      <td>viandes, œufs, poissons</td>\n",
       "      <td>viandes cuites</td>\n",
       "      <td>Veau, tête, bouillie/cuite à l'eau</td>\n",
       "      <td>Calf, head, boiled/cooked in water</td>\n",
       "      <td>2</td>\n",
       "      <td>0</td>\n",
       "      <td>Glacé</td>\n",
       "      <td>PS</td>\n",
       "      <td>...</td>\n",
       "      <td>1.123270e-08</td>\n",
       "      <td>0.232137</td>\n",
       "      <td>0.002296</td>\n",
       "      <td>0.160360</td>\n",
       "      <td>0.990430</td>\n",
       "      <td>200.367930</td>\n",
       "      <td>1566.700800</td>\n",
       "      <td>6.517015</td>\n",
       "      <td>115.625970</td>\n",
       "      <td>0.000041</td>\n",
       "    </tr>\n",
       "    <tr>\n",
       "      <th>2514</th>\n",
       "      <td>26146</td>\n",
       "      <td>26146</td>\n",
       "      <td>viandes, œufs, poissons</td>\n",
       "      <td>poissons crus</td>\n",
       "      <td>Vivaneau, cru</td>\n",
       "      <td>Snapper, raw</td>\n",
       "      <td>2</td>\n",
       "      <td>0</td>\n",
       "      <td>Glacé</td>\n",
       "      <td>PS</td>\n",
       "      <td>...</td>\n",
       "      <td>4.015680e-09</td>\n",
       "      <td>0.095432</td>\n",
       "      <td>0.000677</td>\n",
       "      <td>0.022499</td>\n",
       "      <td>0.244290</td>\n",
       "      <td>24.102134</td>\n",
       "      <td>14.699972</td>\n",
       "      <td>0.559311</td>\n",
       "      <td>60.601249</td>\n",
       "      <td>0.000163</td>\n",
       "    </tr>\n",
       "    <tr>\n",
       "      <th>2515</th>\n",
       "      <td>26147</td>\n",
       "      <td>26147</td>\n",
       "      <td>viandes, œufs, poissons</td>\n",
       "      <td>poissons cuits</td>\n",
       "      <td>Vivaneau, cuit</td>\n",
       "      <td>Snapper, cooked</td>\n",
       "      <td>2</td>\n",
       "      <td>0</td>\n",
       "      <td>Glacé</td>\n",
       "      <td>PP</td>\n",
       "      <td>...</td>\n",
       "      <td>5.002364e-09</td>\n",
       "      <td>0.116709</td>\n",
       "      <td>0.000867</td>\n",
       "      <td>0.027545</td>\n",
       "      <td>0.298742</td>\n",
       "      <td>29.317396</td>\n",
       "      <td>18.678957</td>\n",
       "      <td>0.642664</td>\n",
       "      <td>86.252396</td>\n",
       "      <td>0.000203</td>\n",
       "    </tr>\n",
       "    <tr>\n",
       "      <th>2516</th>\n",
       "      <td>25512</td>\n",
       "      <td>25512</td>\n",
       "      <td>viandes, œufs, poissons</td>\n",
       "      <td>autres produits à base de viande</td>\n",
       "      <td>Volaille, croquette panée ou nuggets</td>\n",
       "      <td>Poultry nuggets</td>\n",
       "      <td>2</td>\n",
       "      <td>0</td>\n",
       "      <td>Glacé</td>\n",
       "      <td>PS</td>\n",
       "      <td>...</td>\n",
       "      <td>4.905220e-09</td>\n",
       "      <td>0.102578</td>\n",
       "      <td>0.000987</td>\n",
       "      <td>0.026625</td>\n",
       "      <td>0.436752</td>\n",
       "      <td>86.087428</td>\n",
       "      <td>342.123720</td>\n",
       "      <td>4.029214</td>\n",
       "      <td>96.404511</td>\n",
       "      <td>0.000025</td>\n",
       "    </tr>\n",
       "  </tbody>\n",
       "</table>\n",
       "<p>2517 rows × 29 columns</p>\n",
       "</div>"
      ],
      "text/plain": [
       "     Code\\nAGB  Code\\nCIQUAL                        Groupe d'aliment  \\\n",
       "0        11084         11084  aides culinaires et ingrédients divers   \n",
       "1        11023         11023  aides culinaires et ingrédients divers   \n",
       "2        11000         11000  aides culinaires et ingrédients divers   \n",
       "3        11093         11093  aides culinaires et ingrédients divers   \n",
       "4        20995         20995  aides culinaires et ingrédients divers   \n",
       "...        ...           ...                                     ...   \n",
       "2512      6535          6535                 viandes, œufs, poissons   \n",
       "2513      6582          6582                 viandes, œufs, poissons   \n",
       "2514     26146         26146                 viandes, œufs, poissons   \n",
       "2515     26147         26147                 viandes, œufs, poissons   \n",
       "2516     25512         25512                 viandes, œufs, poissons   \n",
       "\n",
       "                 Sous-groupe d'aliment  \\\n",
       "0                               algues   \n",
       "1                               herbes   \n",
       "2                               herbes   \n",
       "3                               herbes   \n",
       "4                               algues   \n",
       "...                                ...   \n",
       "2512                     viandes crues   \n",
       "2513                    viandes cuites   \n",
       "2514                     poissons crus   \n",
       "2515                    poissons cuits   \n",
       "2516  autres produits à base de viande   \n",
       "\n",
       "                             Nom du Produit en Français  \\\n",
       "0                                     Agar (algue), cru   \n",
       "1                                     Ail séché, poudre   \n",
       "2                                              Ail, cru   \n",
       "3                                          Aneth, frais   \n",
       "4     Ao-nori (Enteromorpha sp.), séchée ou déshydratée   \n",
       "...                                                 ...   \n",
       "2512                      Veau, steak haché 20% MG, cru   \n",
       "2513                 Veau, tête, bouillie/cuite à l'eau   \n",
       "2514                                      Vivaneau, cru   \n",
       "2515                                     Vivaneau, cuit   \n",
       "2516               Volaille, croquette panée ou nuggets   \n",
       "\n",
       "                                               LCI Name  \\\n",
       "0                                    Seaweed, agar, raw   \n",
       "1                                 Garlic, powder, dried   \n",
       "2                                         Garlic, fresh   \n",
       "3                                           Dill, fresh   \n",
       "4     Sea lettuce (Enteromorpha sp.), dried or dehyd...   \n",
       "...                                                 ...   \n",
       "2512                   Veal, minced steak, 20% fat, raw   \n",
       "2513                 Calf, head, boiled/cooked in water   \n",
       "2514                                       Snapper, raw   \n",
       "2515                                    Snapper, cooked   \n",
       "2516                                    Poultry nuggets   \n",
       "\n",
       "      code saison (0 : hors saison ; 1 : de saison ; 2 : mix de consommation FR)  \\\n",
       "0                                                     2                            \n",
       "1                                                     2                            \n",
       "2                                                     2                            \n",
       "3                                                     2                            \n",
       "4                                                     2                            \n",
       "...                                                 ...                            \n",
       "2512                                                  2                            \n",
       "2513                                                  2                            \n",
       "2514                                                  2                            \n",
       "2515                                                  2                            \n",
       "2516                                                  2                            \n",
       "\n",
       "      code avion (1 : par avion)       Livraison Matériau d'emballage  ...  \\\n",
       "0                              0  Ambiant (long)                 LDPE  ...   \n",
       "1                              0  Ambiant (long)                Verre  ...   \n",
       "2                              0  Ambiant (long)      Pas d'emballage  ...   \n",
       "3                              0  Ambiant (long)                 LDPE  ...   \n",
       "4                              0  Ambiant (long)                 LDPE  ...   \n",
       "...                          ...             ...                  ...  ...   \n",
       "2512                           0           Glacé                   PS  ...   \n",
       "2513                           0           Glacé                   PS  ...   \n",
       "2514                           0           Glacé                   PS  ...   \n",
       "2515                           0           Glacé                   PP  ...   \n",
       "2516                           0           Glacé                   PS  ...   \n",
       "\n",
       "     CTUh/kg de produit.1  mol H+ eq/kg de produit  kg P eq/kg de produit  \\\n",
       "0            6.482667e-09                 0.099733               0.001868   \n",
       "1            4.662163e-10                 0.006222               0.000124   \n",
       "2            2.984758e-10                 0.002005               0.000068   \n",
       "3            6.189716e-10                 0.008112               0.000203   \n",
       "4            6.482667e-09                 0.099733               0.001868   \n",
       "...                   ...                      ...                    ...   \n",
       "2512         1.083839e-08                 0.224717               0.002212   \n",
       "2513         1.123270e-08                 0.232137               0.002296   \n",
       "2514         4.015680e-09                 0.095432               0.000677   \n",
       "2515         5.002364e-09                 0.116709               0.000867   \n",
       "2516         4.905220e-09                 0.102578               0.000987   \n",
       "\n",
       "      kg N eq/kg de produit  mol N eq/kg de produit  CTUe/kg de produit  \\\n",
       "0                  0.013280                0.127350           44.555153   \n",
       "1                  0.002320                0.012695            5.832120   \n",
       "2                  0.002123                0.006281            4.092332   \n",
       "3                  0.004050                0.031181            5.681342   \n",
       "4                  0.013280                0.127350           44.555153   \n",
       "...                     ...                     ...                 ...   \n",
       "2512               0.155523                0.960260          192.779240   \n",
       "2513               0.160360                0.990430          200.367930   \n",
       "2514               0.022499                0.244290           24.102134   \n",
       "2515               0.027545                0.298742           29.317396   \n",
       "2516               0.026625                0.436752           86.087428   \n",
       "\n",
       "      Pt/kg de produit  m3 depriv./kg de produit  MJ/kg de produit  \\\n",
       "0            26.476190                  3.102487        315.057170   \n",
       "1            20.223652                  2.520528         12.665447   \n",
       "2            18.454615                  3.021753          6.230187   \n",
       "3            36.373722                  5.292121         12.553109   \n",
       "4            26.476190                  3.102487        315.057170   \n",
       "...                ...                       ...               ...   \n",
       "2512       1521.149300                  6.276344        111.478480   \n",
       "2513       1566.700800                  6.517015        115.625970   \n",
       "2514         14.699972                  0.559311         60.601249   \n",
       "2515         18.678957                  0.642664         86.252396   \n",
       "2516        342.123720                  4.029214         96.404511   \n",
       "\n",
       "      kg Sb eq/kg de produit  \n",
       "0                   0.000088  \n",
       "1                   0.000007  \n",
       "2                   0.000004  \n",
       "3                   0.000005  \n",
       "4                   0.000088  \n",
       "...                      ...  \n",
       "2512                0.000038  \n",
       "2513                0.000041  \n",
       "2514                0.000163  \n",
       "2515                0.000203  \n",
       "2516                0.000025  \n",
       "\n",
       "[2517 rows x 29 columns]"
      ]
     },
     "execution_count": 7,
     "metadata": {},
     "output_type": "execute_result"
    }
   ],
   "source": [
    "df_synthese = pd.read_csv(\"/Users/skywidz/Desktop/PROJET_AGRO/data/synthese_ingredient.csv\")\n",
    "df_synthese"
   ]
  },
  {
   "cell_type": "code",
   "execution_count": 8,
   "metadata": {},
   "outputs": [
    {
     "name": "stdout",
     "output_type": "stream",
     "text": [
      "<class 'pandas.core.frame.DataFrame'>\n",
      "RangeIndex: 2517 entries, 0 to 2516\n",
      "Data columns (total 29 columns):\n",
      " #   Column                                                                      Non-Null Count  Dtype  \n",
      "---  ------                                                                      --------------  -----  \n",
      " 0   Code\n",
      "AGB                                                                    2517 non-null   object \n",
      " 1   Code\n",
      "CIQUAL                                                                 2517 non-null   int64  \n",
      " 2   Groupe d'aliment                                                            2517 non-null   object \n",
      " 3   Sous-groupe d'aliment                                                       2517 non-null   object \n",
      " 4   Nom du Produit en Français                                                  2517 non-null   object \n",
      " 5   LCI Name                                                                    2517 non-null   object \n",
      " 6   code saison (0 : hors saison ; 1 : de saison ; 2 : mix de consommation FR)  2517 non-null   int64  \n",
      " 7   code avion (1 : par avion)                                                  2517 non-null   int64  \n",
      " 8   Livraison                                                                   2517 non-null   object \n",
      " 9   Matériau d'emballage                                                        2517 non-null   object \n",
      " 10  Préparation                                                                 2517 non-null   object \n",
      " 11  DQR - Note de qualité de la donnée (1 excellente ; 5 très faible)           2517 non-null   float64\n",
      " 12  mPt/kg de produit                                                           2517 non-null   float64\n",
      " 13  kg CO2 eq/kg de produit                                                     2517 non-null   float64\n",
      " 14  kg CVC11 eq/kg de produit                                                   2517 non-null   float64\n",
      " 15  kBq U-235 eq/kg de produit                                                  2517 non-null   float64\n",
      " 16  kg NMVOC eq/kg de produit                                                   2517 non-null   float64\n",
      " 17  disease inc./kg de produit                                                  2517 non-null   float64\n",
      " 18  CTUh/kg de produit                                                          2517 non-null   float64\n",
      " 19  CTUh/kg de produit.1                                                        2517 non-null   float64\n",
      " 20  mol H+ eq/kg de produit                                                     2517 non-null   float64\n",
      " 21  kg P eq/kg de produit                                                       2517 non-null   float64\n",
      " 22  kg N eq/kg de produit                                                       2517 non-null   float64\n",
      " 23  mol N eq/kg de produit                                                      2517 non-null   float64\n",
      " 24  CTUe/kg de produit                                                          2517 non-null   float64\n",
      " 25  Pt/kg de produit                                                            2517 non-null   float64\n",
      " 26  m3 depriv./kg de produit                                                    2517 non-null   float64\n",
      " 27  MJ/kg de produit                                                            2517 non-null   float64\n",
      " 28  kg Sb eq/kg de produit                                                      2517 non-null   float64\n",
      "dtypes: float64(18), int64(3), object(8)\n",
      "memory usage: 570.4+ KB\n"
     ]
    }
   ],
   "source": [
    "df_synthese.info()"
   ]
  },
  {
   "cell_type": "code",
   "execution_count": 9,
   "metadata": {},
   "outputs": [
    {
     "data": {
      "text/html": [
       "<div>\n",
       "<style scoped>\n",
       "    .dataframe tbody tr th:only-of-type {\n",
       "        vertical-align: middle;\n",
       "    }\n",
       "\n",
       "    .dataframe tbody tr th {\n",
       "        vertical-align: top;\n",
       "    }\n",
       "\n",
       "    .dataframe thead th {\n",
       "        text-align: right;\n",
       "    }\n",
       "</style>\n",
       "<table border=\"1\" class=\"dataframe\">\n",
       "  <thead>\n",
       "    <tr style=\"text-align: right;\">\n",
       "      <th></th>\n",
       "      <th>Code\\nAGB</th>\n",
       "      <th>Code\\nCIQUAL</th>\n",
       "      <th>Groupe d'aliment</th>\n",
       "      <th>Sous-groupe d'aliment</th>\n",
       "      <th>Nom du Produit en Français</th>\n",
       "      <th>LCI Name</th>\n",
       "      <th>code saison (0 : hors saison ; 1 : de saison ; 2 : mix de consommation FR)</th>\n",
       "      <th>code avion (1 : par avion)</th>\n",
       "      <th>Livraison</th>\n",
       "      <th>Matériau d'emballage</th>\n",
       "      <th>...</th>\n",
       "      <th>CTUh/kg de produit.1</th>\n",
       "      <th>mol H+ eq/kg de produit</th>\n",
       "      <th>kg P eq/kg de produit</th>\n",
       "      <th>kg N eq/kg de produit</th>\n",
       "      <th>mol N eq/kg de produit</th>\n",
       "      <th>CTUe/kg de produit</th>\n",
       "      <th>Pt/kg de produit</th>\n",
       "      <th>m3 depriv./kg de produit</th>\n",
       "      <th>MJ/kg de produit</th>\n",
       "      <th>kg Sb eq/kg de produit</th>\n",
       "    </tr>\n",
       "  </thead>\n",
       "  <tbody>\n",
       "    <tr>\n",
       "      <th>443</th>\n",
       "      <td>25415_2</td>\n",
       "      <td>25415</td>\n",
       "      <td>entrées et plats composés</td>\n",
       "      <td>sandwichs</td>\n",
       "      <td>Burger végétarien</td>\n",
       "      <td>Veggie burger</td>\n",
       "      <td>2</td>\n",
       "      <td>0</td>\n",
       "      <td>Glacé</td>\n",
       "      <td>LDPE</td>\n",
       "      <td>...</td>\n",
       "      <td>1.971148e-09</td>\n",
       "      <td>0.022188</td>\n",
       "      <td>0.000444</td>\n",
       "      <td>0.010083</td>\n",
       "      <td>0.087518</td>\n",
       "      <td>27.224499</td>\n",
       "      <td>126.448970</td>\n",
       "      <td>1.396874</td>\n",
       "      <td>56.703059</td>\n",
       "      <td>0.000014</td>\n",
       "    </tr>\n",
       "    <tr>\n",
       "      <th>479</th>\n",
       "      <td>25415_1</td>\n",
       "      <td>25415</td>\n",
       "      <td>entrées et plats composés</td>\n",
       "      <td>sandwichs</td>\n",
       "      <td>Double cheeseburger, provenant de fast food</td>\n",
       "      <td>Cheeseburger, double, from fast foods restaurant</td>\n",
       "      <td>2</td>\n",
       "      <td>0</td>\n",
       "      <td>Glacé</td>\n",
       "      <td>PS</td>\n",
       "      <td>...</td>\n",
       "      <td>6.912349e-09</td>\n",
       "      <td>0.171413</td>\n",
       "      <td>0.000983</td>\n",
       "      <td>0.042842</td>\n",
       "      <td>0.748660</td>\n",
       "      <td>74.854240</td>\n",
       "      <td>879.566910</td>\n",
       "      <td>3.472435</td>\n",
       "      <td>68.490494</td>\n",
       "      <td>0.000030</td>\n",
       "    </tr>\n",
       "    <tr>\n",
       "      <th>711</th>\n",
       "      <td>7815_2</td>\n",
       "      <td>7815</td>\n",
       "      <td>entrées et plats composés</td>\n",
       "      <td>sandwichs</td>\n",
       "      <td>Wrap végétarien</td>\n",
       "      <td>Wheat tortilla wrap, filled with soy-based, ve...</td>\n",
       "      <td>2</td>\n",
       "      <td>0</td>\n",
       "      <td>Glacé</td>\n",
       "      <td>Carton</td>\n",
       "      <td>...</td>\n",
       "      <td>2.053679e-09</td>\n",
       "      <td>0.016726</td>\n",
       "      <td>0.000401</td>\n",
       "      <td>0.010000</td>\n",
       "      <td>0.066934</td>\n",
       "      <td>24.694013</td>\n",
       "      <td>133.295170</td>\n",
       "      <td>1.731734</td>\n",
       "      <td>53.114566</td>\n",
       "      <td>0.000013</td>\n",
       "    </tr>\n",
       "    <tr>\n",
       "      <th>816</th>\n",
       "      <td>13024_2</td>\n",
       "      <td>13082</td>\n",
       "      <td>fruits, légumes, légumineuses et oléagineux</td>\n",
       "      <td>fruits</td>\n",
       "      <td>Clémentine, pulpe, crue</td>\n",
       "      <td>Clementine, pulp, raw</td>\n",
       "      <td>2</td>\n",
       "      <td>0</td>\n",
       "      <td>Ambiant (moyen)</td>\n",
       "      <td>Pas d'emballage</td>\n",
       "      <td>...</td>\n",
       "      <td>4.354974e-10</td>\n",
       "      <td>0.008376</td>\n",
       "      <td>0.000237</td>\n",
       "      <td>0.001860</td>\n",
       "      <td>0.026011</td>\n",
       "      <td>199.973880</td>\n",
       "      <td>53.502081</td>\n",
       "      <td>32.913552</td>\n",
       "      <td>13.739081</td>\n",
       "      <td>0.000005</td>\n",
       "    </tr>\n",
       "    <tr>\n",
       "      <th>870</th>\n",
       "      <td>13014_2</td>\n",
       "      <td>13014</td>\n",
       "      <td>fruits, légumes, légumineuses et oléagineux</td>\n",
       "      <td>fruits</td>\n",
       "      <td>Fraise de saison, crue</td>\n",
       "      <td>Strawberry, in-season, raw</td>\n",
       "      <td>1</td>\n",
       "      <td>0</td>\n",
       "      <td>Ambiant (moyen)</td>\n",
       "      <td>Pas d'emballage</td>\n",
       "      <td>...</td>\n",
       "      <td>6.598422e-10</td>\n",
       "      <td>0.007189</td>\n",
       "      <td>0.000099</td>\n",
       "      <td>0.005001</td>\n",
       "      <td>0.029057</td>\n",
       "      <td>11.327946</td>\n",
       "      <td>62.517971</td>\n",
       "      <td>6.885207</td>\n",
       "      <td>7.631611</td>\n",
       "      <td>0.000003</td>\n",
       "    </tr>\n",
       "    <tr>\n",
       "      <th>871</th>\n",
       "      <td>13014_3</td>\n",
       "      <td>13014</td>\n",
       "      <td>fruits, légumes, légumineuses et oléagineux</td>\n",
       "      <td>fruits</td>\n",
       "      <td>Fraise hors saison, crue</td>\n",
       "      <td>Strawberry, off-season, raw</td>\n",
       "      <td>0</td>\n",
       "      <td>0</td>\n",
       "      <td>Ambiant (moyen)</td>\n",
       "      <td>Pas d'emballage</td>\n",
       "      <td>...</td>\n",
       "      <td>6.230920e-10</td>\n",
       "      <td>0.007656</td>\n",
       "      <td>0.000103</td>\n",
       "      <td>0.005257</td>\n",
       "      <td>0.030802</td>\n",
       "      <td>11.676213</td>\n",
       "      <td>114.054430</td>\n",
       "      <td>6.887865</td>\n",
       "      <td>8.764672</td>\n",
       "      <td>0.000004</td>\n",
       "    </tr>\n",
       "    <tr>\n",
       "      <th>872</th>\n",
       "      <td>13014_1</td>\n",
       "      <td>13014</td>\n",
       "      <td>fruits, légumes, légumineuses et oléagineux</td>\n",
       "      <td>fruits</td>\n",
       "      <td>Fraise, crue</td>\n",
       "      <td>Strawberry, raw</td>\n",
       "      <td>2</td>\n",
       "      <td>0</td>\n",
       "      <td>Ambiant (moyen)</td>\n",
       "      <td>Pas d'emballage</td>\n",
       "      <td>...</td>\n",
       "      <td>6.498666e-10</td>\n",
       "      <td>0.007315</td>\n",
       "      <td>0.000100</td>\n",
       "      <td>0.005071</td>\n",
       "      <td>0.029530</td>\n",
       "      <td>11.422436</td>\n",
       "      <td>76.504223</td>\n",
       "      <td>6.885928</td>\n",
       "      <td>7.939035</td>\n",
       "      <td>0.000003</td>\n",
       "    </tr>\n",
       "    <tr>\n",
       "      <th>909</th>\n",
       "      <td>20061_2</td>\n",
       "      <td>20061</td>\n",
       "      <td>fruits, légumes, légumineuses et oléagineux</td>\n",
       "      <td>légumes</td>\n",
       "      <td>Haricot vert importé par avion, cru</td>\n",
       "      <td>French bean, raw (Kenya by plane)</td>\n",
       "      <td>2</td>\n",
       "      <td>1</td>\n",
       "      <td>Ambiant (moyen)</td>\n",
       "      <td>Pas d'emballage</td>\n",
       "      <td>...</td>\n",
       "      <td>1.032672e-09</td>\n",
       "      <td>0.038201</td>\n",
       "      <td>0.000174</td>\n",
       "      <td>0.014370</td>\n",
       "      <td>0.154528</td>\n",
       "      <td>29.701213</td>\n",
       "      <td>95.232532</td>\n",
       "      <td>6.491131</td>\n",
       "      <td>92.389981</td>\n",
       "      <td>0.000004</td>\n",
       "    </tr>\n",
       "    <tr>\n",
       "      <th>911</th>\n",
       "      <td>20061_1</td>\n",
       "      <td>20061</td>\n",
       "      <td>fruits, légumes, légumineuses et oléagineux</td>\n",
       "      <td>légumes</td>\n",
       "      <td>Haricot vert, cru</td>\n",
       "      <td>French bean, raw</td>\n",
       "      <td>2</td>\n",
       "      <td>0</td>\n",
       "      <td>Ambiant (moyen)</td>\n",
       "      <td>Pas d'emballage</td>\n",
       "      <td>...</td>\n",
       "      <td>4.631635e-10</td>\n",
       "      <td>0.006482</td>\n",
       "      <td>0.000101</td>\n",
       "      <td>0.002711</td>\n",
       "      <td>0.026870</td>\n",
       "      <td>5.701967</td>\n",
       "      <td>83.934259</td>\n",
       "      <td>6.436990</td>\n",
       "      <td>7.157215</td>\n",
       "      <td>0.000003</td>\n",
       "    </tr>\n",
       "    <tr>\n",
       "      <th>958</th>\n",
       "      <td>13024_1</td>\n",
       "      <td>13024</td>\n",
       "      <td>fruits, légumes, légumineuses et oléagineux</td>\n",
       "      <td>fruits</td>\n",
       "      <td>Mandarine, pulpe, crue</td>\n",
       "      <td>Mandarin, pulp, raw</td>\n",
       "      <td>2</td>\n",
       "      <td>0</td>\n",
       "      <td>Ambiant (moyen)</td>\n",
       "      <td>Pas d'emballage</td>\n",
       "      <td>...</td>\n",
       "      <td>4.482953e-10</td>\n",
       "      <td>0.005622</td>\n",
       "      <td>0.000094</td>\n",
       "      <td>0.001443</td>\n",
       "      <td>0.021533</td>\n",
       "      <td>26.195068</td>\n",
       "      <td>26.999967</td>\n",
       "      <td>10.942448</td>\n",
       "      <td>7.283194</td>\n",
       "      <td>0.000005</td>\n",
       "    </tr>\n",
       "    <tr>\n",
       "      <th>959</th>\n",
       "      <td>13025_2</td>\n",
       "      <td>13025</td>\n",
       "      <td>fruits, légumes, légumineuses et oléagineux</td>\n",
       "      <td>fruits</td>\n",
       "      <td>Mangue importée par avion, pulpe, crue</td>\n",
       "      <td>Mango, pulp, raw (Brazil by plane)</td>\n",
       "      <td>2</td>\n",
       "      <td>1</td>\n",
       "      <td>Ambiant (moyen)</td>\n",
       "      <td>Pas d'emballage</td>\n",
       "      <td>...</td>\n",
       "      <td>1.283514e-09</td>\n",
       "      <td>0.057386</td>\n",
       "      <td>0.000215</td>\n",
       "      <td>0.020208</td>\n",
       "      <td>0.228891</td>\n",
       "      <td>54.782786</td>\n",
       "      <td>50.740043</td>\n",
       "      <td>16.624709</td>\n",
       "      <td>149.160950</td>\n",
       "      <td>0.000008</td>\n",
       "    </tr>\n",
       "    <tr>\n",
       "      <th>960</th>\n",
       "      <td>13025_1</td>\n",
       "      <td>13025</td>\n",
       "      <td>fruits, légumes, légumineuses et oléagineux</td>\n",
       "      <td>fruits</td>\n",
       "      <td>Mangue importée par bateau, pulpe, crue</td>\n",
       "      <td>Mango, pulp, raw</td>\n",
       "      <td>2</td>\n",
       "      <td>0</td>\n",
       "      <td>Ambiant (moyen)</td>\n",
       "      <td>Pas d'emballage</td>\n",
       "      <td>...</td>\n",
       "      <td>3.689144e-10</td>\n",
       "      <td>0.007310</td>\n",
       "      <td>0.000088</td>\n",
       "      <td>0.001461</td>\n",
       "      <td>0.023759</td>\n",
       "      <td>15.353090</td>\n",
       "      <td>32.172209</td>\n",
       "      <td>16.551078</td>\n",
       "      <td>9.007039</td>\n",
       "      <td>0.000006</td>\n",
       "    </tr>\n",
       "    <tr>\n",
       "      <th>1121</th>\n",
       "      <td>20047_2</td>\n",
       "      <td>20047</td>\n",
       "      <td>fruits, légumes, légumineuses et oléagineux</td>\n",
       "      <td>légumes</td>\n",
       "      <td>Tomate de saison, crue</td>\n",
       "      <td>Tomato, in season, raw</td>\n",
       "      <td>1</td>\n",
       "      <td>0</td>\n",
       "      <td>Ambiant (moyen)</td>\n",
       "      <td>Pas d'emballage</td>\n",
       "      <td>...</td>\n",
       "      <td>5.234598e-10</td>\n",
       "      <td>0.002825</td>\n",
       "      <td>0.000072</td>\n",
       "      <td>0.001408</td>\n",
       "      <td>0.010045</td>\n",
       "      <td>3.633278</td>\n",
       "      <td>-2.266646</td>\n",
       "      <td>1.893178</td>\n",
       "      <td>8.724414</td>\n",
       "      <td>0.000004</td>\n",
       "    </tr>\n",
       "    <tr>\n",
       "      <th>1122</th>\n",
       "      <td>20047_3</td>\n",
       "      <td>20047</td>\n",
       "      <td>fruits, légumes, légumineuses et oléagineux</td>\n",
       "      <td>légumes</td>\n",
       "      <td>Tomate hors saison, crue</td>\n",
       "      <td>Tomato, off season, raw</td>\n",
       "      <td>0</td>\n",
       "      <td>0</td>\n",
       "      <td>Ambiant (moyen)</td>\n",
       "      <td>Pas d'emballage</td>\n",
       "      <td>...</td>\n",
       "      <td>2.324822e-09</td>\n",
       "      <td>0.008161</td>\n",
       "      <td>0.000412</td>\n",
       "      <td>0.002847</td>\n",
       "      <td>0.023854</td>\n",
       "      <td>18.298315</td>\n",
       "      <td>6.720441</td>\n",
       "      <td>2.613154</td>\n",
       "      <td>28.951932</td>\n",
       "      <td>0.000011</td>\n",
       "    </tr>\n",
       "    <tr>\n",
       "      <th>1126</th>\n",
       "      <td>20047_1</td>\n",
       "      <td>20047</td>\n",
       "      <td>fruits, légumes, légumineuses et oléagineux</td>\n",
       "      <td>légumes</td>\n",
       "      <td>Tomate, crue</td>\n",
       "      <td>Tomato, raw</td>\n",
       "      <td>2</td>\n",
       "      <td>0</td>\n",
       "      <td>Ambiant (moyen)</td>\n",
       "      <td>Pas d'emballage</td>\n",
       "      <td>...</td>\n",
       "      <td>1.339097e-09</td>\n",
       "      <td>0.004444</td>\n",
       "      <td>0.000109</td>\n",
       "      <td>0.001606</td>\n",
       "      <td>0.015100</td>\n",
       "      <td>10.732878</td>\n",
       "      <td>1.744699</td>\n",
       "      <td>2.292358</td>\n",
       "      <td>9.978727</td>\n",
       "      <td>0.000006</td>\n",
       "    </tr>\n",
       "    <tr>\n",
       "      <th>1360</th>\n",
       "      <td>1029_1</td>\n",
       "      <td>1029</td>\n",
       "      <td>lait et produits laitiers</td>\n",
       "      <td>fromages</td>\n",
       "      <td>Spécialité végétale type fromage en tranche, s...</td>\n",
       "      <td>Plant-based cheese, without soybean, prepacked...</td>\n",
       "      <td>2</td>\n",
       "      <td>0</td>\n",
       "      <td>Glacé</td>\n",
       "      <td>LDPE</td>\n",
       "      <td>...</td>\n",
       "      <td>5.545613e-09</td>\n",
       "      <td>0.027257</td>\n",
       "      <td>0.008090</td>\n",
       "      <td>0.012589</td>\n",
       "      <td>0.071855</td>\n",
       "      <td>87.209422</td>\n",
       "      <td>116.330600</td>\n",
       "      <td>6.301223</td>\n",
       "      <td>44.823948</td>\n",
       "      <td>0.000023</td>\n",
       "    </tr>\n",
       "    <tr>\n",
       "      <th>1361</th>\n",
       "      <td>1029_2</td>\n",
       "      <td>1029</td>\n",
       "      <td>lait et produits laitiers</td>\n",
       "      <td>fromages</td>\n",
       "      <td>Spécialité végétale type fromage râpé, sans so...</td>\n",
       "      <td>Plant-based cheese, without soybean, prepacked...</td>\n",
       "      <td>2</td>\n",
       "      <td>0</td>\n",
       "      <td>Glacé</td>\n",
       "      <td>LDPE</td>\n",
       "      <td>...</td>\n",
       "      <td>5.549088e-09</td>\n",
       "      <td>0.027338</td>\n",
       "      <td>0.008118</td>\n",
       "      <td>0.012600</td>\n",
       "      <td>0.071922</td>\n",
       "      <td>87.263000</td>\n",
       "      <td>116.338930</td>\n",
       "      <td>6.310679</td>\n",
       "      <td>44.999897</td>\n",
       "      <td>0.000023</td>\n",
       "    </tr>\n",
       "    <tr>\n",
       "      <th>1775</th>\n",
       "      <td>9340_2</td>\n",
       "      <td>9340</td>\n",
       "      <td>produits céréaliers</td>\n",
       "      <td>pâtes, riz et céréales</td>\n",
       "      <td>Quinoa FR, cru</td>\n",
       "      <td>Quinoa FR, raw</td>\n",
       "      <td>2</td>\n",
       "      <td>0</td>\n",
       "      <td>Ambiant (long)</td>\n",
       "      <td>LDPE</td>\n",
       "      <td>...</td>\n",
       "      <td>4.055903e-09</td>\n",
       "      <td>0.025979</td>\n",
       "      <td>0.000692</td>\n",
       "      <td>0.101101</td>\n",
       "      <td>0.096926</td>\n",
       "      <td>65.073967</td>\n",
       "      <td>291.028520</td>\n",
       "      <td>80.920559</td>\n",
       "      <td>36.319643</td>\n",
       "      <td>0.000053</td>\n",
       "    </tr>\n",
       "    <tr>\n",
       "      <th>1776</th>\n",
       "      <td>9341_2</td>\n",
       "      <td>9341</td>\n",
       "      <td>produits céréaliers</td>\n",
       "      <td>pâtes, riz et céréales</td>\n",
       "      <td>Quinoa FR, cuit</td>\n",
       "      <td>Quinoa FR, boiled/cooked in water, unsalted</td>\n",
       "      <td>2</td>\n",
       "      <td>0</td>\n",
       "      <td>Ambiant (long)</td>\n",
       "      <td>PP</td>\n",
       "      <td>...</td>\n",
       "      <td>1.792165e-09</td>\n",
       "      <td>0.011377</td>\n",
       "      <td>0.000287</td>\n",
       "      <td>0.044726</td>\n",
       "      <td>0.042628</td>\n",
       "      <td>28.689239</td>\n",
       "      <td>128.482420</td>\n",
       "      <td>35.763685</td>\n",
       "      <td>17.422906</td>\n",
       "      <td>0.000024</td>\n",
       "    </tr>\n",
       "    <tr>\n",
       "      <th>1777</th>\n",
       "      <td>9341_1</td>\n",
       "      <td>9341</td>\n",
       "      <td>produits céréaliers</td>\n",
       "      <td>pâtes, riz et céréales</td>\n",
       "      <td>Quinoa, bouilli/cuit à l'eau, non salé</td>\n",
       "      <td>Quinoa, boiled/cooked in water, unsalted</td>\n",
       "      <td>2</td>\n",
       "      <td>0</td>\n",
       "      <td>Ambiant (long)</td>\n",
       "      <td>PP</td>\n",
       "      <td>...</td>\n",
       "      <td>1.727455e-09</td>\n",
       "      <td>0.013436</td>\n",
       "      <td>0.000106</td>\n",
       "      <td>0.006196</td>\n",
       "      <td>0.054451</td>\n",
       "      <td>58.395962</td>\n",
       "      <td>69.008181</td>\n",
       "      <td>13.675218</td>\n",
       "      <td>24.102981</td>\n",
       "      <td>0.000006</td>\n",
       "    </tr>\n",
       "    <tr>\n",
       "      <th>1778</th>\n",
       "      <td>9340_1</td>\n",
       "      <td>9340</td>\n",
       "      <td>produits céréaliers</td>\n",
       "      <td>pâtes, riz et céréales</td>\n",
       "      <td>Quinoa, cru</td>\n",
       "      <td>Quinoa, raw</td>\n",
       "      <td>2</td>\n",
       "      <td>0</td>\n",
       "      <td>Ambiant (long)</td>\n",
       "      <td>LDPE</td>\n",
       "      <td>...</td>\n",
       "      <td>3.909708e-09</td>\n",
       "      <td>0.030630</td>\n",
       "      <td>0.000283</td>\n",
       "      <td>0.014055</td>\n",
       "      <td>0.123636</td>\n",
       "      <td>132.187540</td>\n",
       "      <td>156.664030</td>\n",
       "      <td>31.018189</td>\n",
       "      <td>51.411244</td>\n",
       "      <td>0.000013</td>\n",
       "    </tr>\n",
       "    <tr>\n",
       "      <th>1815</th>\n",
       "      <td>7815_1</td>\n",
       "      <td>7815</td>\n",
       "      <td>produits céréaliers</td>\n",
       "      <td>pains et viennoiseries</td>\n",
       "      <td>Tortilla souple (à garnir), à base de blé</td>\n",
       "      <td>Wheat tortilla wrap, to be filled</td>\n",
       "      <td>2</td>\n",
       "      <td>0</td>\n",
       "      <td>Ambiant (court)</td>\n",
       "      <td>LDPE</td>\n",
       "      <td>...</td>\n",
       "      <td>1.405455e-09</td>\n",
       "      <td>0.012289</td>\n",
       "      <td>0.000272</td>\n",
       "      <td>0.007777</td>\n",
       "      <td>0.050117</td>\n",
       "      <td>15.475633</td>\n",
       "      <td>103.313340</td>\n",
       "      <td>1.029309</td>\n",
       "      <td>22.617455</td>\n",
       "      <td>0.000006</td>\n",
       "    </tr>\n",
       "    <tr>\n",
       "      <th>2346</th>\n",
       "      <td>20591_1</td>\n",
       "      <td>20591</td>\n",
       "      <td>viandes, œufs, poissons</td>\n",
       "      <td>substituts de viande</td>\n",
       "      <td>Protéine de soja texturée</td>\n",
       "      <td>Soy protein, textured, rehydrated, from soy flour</td>\n",
       "      <td>2</td>\n",
       "      <td>0</td>\n",
       "      <td>Ambiant (long)</td>\n",
       "      <td>LDPE</td>\n",
       "      <td>...</td>\n",
       "      <td>6.946551e-10</td>\n",
       "      <td>0.002927</td>\n",
       "      <td>0.000189</td>\n",
       "      <td>0.003199</td>\n",
       "      <td>0.010112</td>\n",
       "      <td>24.475225</td>\n",
       "      <td>56.420150</td>\n",
       "      <td>0.176163</td>\n",
       "      <td>7.712391</td>\n",
       "      <td>0.000002</td>\n",
       "    </tr>\n",
       "    <tr>\n",
       "      <th>2347</th>\n",
       "      <td>20591_2</td>\n",
       "      <td>20591</td>\n",
       "      <td>viandes, œufs, poissons</td>\n",
       "      <td>substituts de viande</td>\n",
       "      <td>Protéine de soja texturée, réhydratée</td>\n",
       "      <td>Soy protein, textured, dehydrated, from soy flour</td>\n",
       "      <td>2</td>\n",
       "      <td>0</td>\n",
       "      <td>Ambiant (long)</td>\n",
       "      <td>LDPE</td>\n",
       "      <td>...</td>\n",
       "      <td>1.681560e-09</td>\n",
       "      <td>0.007056</td>\n",
       "      <td>0.000459</td>\n",
       "      <td>0.007854</td>\n",
       "      <td>0.024639</td>\n",
       "      <td>60.395559</td>\n",
       "      <td>139.339940</td>\n",
       "      <td>0.359395</td>\n",
       "      <td>15.314570</td>\n",
       "      <td>0.000004</td>\n",
       "    </tr>\n",
       "  </tbody>\n",
       "</table>\n",
       "<p>24 rows × 29 columns</p>\n",
       "</div>"
      ],
      "text/plain": [
       "     Code\\nAGB  Code\\nCIQUAL                             Groupe d'aliment  \\\n",
       "443    25415_2         25415                    entrées et plats composés   \n",
       "479    25415_1         25415                    entrées et plats composés   \n",
       "711     7815_2          7815                    entrées et plats composés   \n",
       "816    13024_2         13082  fruits, légumes, légumineuses et oléagineux   \n",
       "870    13014_2         13014  fruits, légumes, légumineuses et oléagineux   \n",
       "871    13014_3         13014  fruits, légumes, légumineuses et oléagineux   \n",
       "872    13014_1         13014  fruits, légumes, légumineuses et oléagineux   \n",
       "909    20061_2         20061  fruits, légumes, légumineuses et oléagineux   \n",
       "911    20061_1         20061  fruits, légumes, légumineuses et oléagineux   \n",
       "958    13024_1         13024  fruits, légumes, légumineuses et oléagineux   \n",
       "959    13025_2         13025  fruits, légumes, légumineuses et oléagineux   \n",
       "960    13025_1         13025  fruits, légumes, légumineuses et oléagineux   \n",
       "1121   20047_2         20047  fruits, légumes, légumineuses et oléagineux   \n",
       "1122   20047_3         20047  fruits, légumes, légumineuses et oléagineux   \n",
       "1126   20047_1         20047  fruits, légumes, légumineuses et oléagineux   \n",
       "1360    1029_1          1029                    lait et produits laitiers   \n",
       "1361    1029_2          1029                    lait et produits laitiers   \n",
       "1775    9340_2          9340                          produits céréaliers   \n",
       "1776    9341_2          9341                          produits céréaliers   \n",
       "1777    9341_1          9341                          produits céréaliers   \n",
       "1778    9340_1          9340                          produits céréaliers   \n",
       "1815    7815_1          7815                          produits céréaliers   \n",
       "2346   20591_1         20591                      viandes, œufs, poissons   \n",
       "2347   20591_2         20591                      viandes, œufs, poissons   \n",
       "\n",
       "       Sous-groupe d'aliment  \\\n",
       "443                sandwichs   \n",
       "479                sandwichs   \n",
       "711                sandwichs   \n",
       "816                   fruits   \n",
       "870                   fruits   \n",
       "871                   fruits   \n",
       "872                   fruits   \n",
       "909                  légumes   \n",
       "911                  légumes   \n",
       "958                   fruits   \n",
       "959                   fruits   \n",
       "960                   fruits   \n",
       "1121                 légumes   \n",
       "1122                 légumes   \n",
       "1126                 légumes   \n",
       "1360                fromages   \n",
       "1361                fromages   \n",
       "1775  pâtes, riz et céréales   \n",
       "1776  pâtes, riz et céréales   \n",
       "1777  pâtes, riz et céréales   \n",
       "1778  pâtes, riz et céréales   \n",
       "1815  pains et viennoiseries   \n",
       "2346    substituts de viande   \n",
       "2347    substituts de viande   \n",
       "\n",
       "                             Nom du Produit en Français  \\\n",
       "443                                   Burger végétarien   \n",
       "479         Double cheeseburger, provenant de fast food   \n",
       "711                                     Wrap végétarien   \n",
       "816                             Clémentine, pulpe, crue   \n",
       "870                              Fraise de saison, crue   \n",
       "871                            Fraise hors saison, crue   \n",
       "872                                        Fraise, crue   \n",
       "909                 Haricot vert importé par avion, cru   \n",
       "911                                   Haricot vert, cru   \n",
       "958                              Mandarine, pulpe, crue   \n",
       "959              Mangue importée par avion, pulpe, crue   \n",
       "960             Mangue importée par bateau, pulpe, crue   \n",
       "1121                             Tomate de saison, crue   \n",
       "1122                           Tomate hors saison, crue   \n",
       "1126                                       Tomate, crue   \n",
       "1360  Spécialité végétale type fromage en tranche, s...   \n",
       "1361  Spécialité végétale type fromage râpé, sans so...   \n",
       "1775                                     Quinoa FR, cru   \n",
       "1776                                    Quinoa FR, cuit   \n",
       "1777             Quinoa, bouilli/cuit à l'eau, non salé   \n",
       "1778                                        Quinoa, cru   \n",
       "1815          Tortilla souple (à garnir), à base de blé   \n",
       "2346                          Protéine de soja texturée   \n",
       "2347              Protéine de soja texturée, réhydratée   \n",
       "\n",
       "                                               LCI Name  \\\n",
       "443                                       Veggie burger   \n",
       "479    Cheeseburger, double, from fast foods restaurant   \n",
       "711   Wheat tortilla wrap, filled with soy-based, ve...   \n",
       "816                               Clementine, pulp, raw   \n",
       "870                          Strawberry, in-season, raw   \n",
       "871                         Strawberry, off-season, raw   \n",
       "872                                     Strawberry, raw   \n",
       "909                   French bean, raw (Kenya by plane)   \n",
       "911                                    French bean, raw   \n",
       "958                                 Mandarin, pulp, raw   \n",
       "959                  Mango, pulp, raw (Brazil by plane)   \n",
       "960                                    Mango, pulp, raw   \n",
       "1121                             Tomato, in season, raw   \n",
       "1122                            Tomato, off season, raw   \n",
       "1126                                        Tomato, raw   \n",
       "1360  Plant-based cheese, without soybean, prepacked...   \n",
       "1361  Plant-based cheese, without soybean, prepacked...   \n",
       "1775                                     Quinoa FR, raw   \n",
       "1776        Quinoa FR, boiled/cooked in water, unsalted   \n",
       "1777           Quinoa, boiled/cooked in water, unsalted   \n",
       "1778                                        Quinoa, raw   \n",
       "1815                  Wheat tortilla wrap, to be filled   \n",
       "2346  Soy protein, textured, rehydrated, from soy flour   \n",
       "2347  Soy protein, textured, dehydrated, from soy flour   \n",
       "\n",
       "      code saison (0 : hors saison ; 1 : de saison ; 2 : mix de consommation FR)  \\\n",
       "443                                                   2                            \n",
       "479                                                   2                            \n",
       "711                                                   2                            \n",
       "816                                                   2                            \n",
       "870                                                   1                            \n",
       "871                                                   0                            \n",
       "872                                                   2                            \n",
       "909                                                   2                            \n",
       "911                                                   2                            \n",
       "958                                                   2                            \n",
       "959                                                   2                            \n",
       "960                                                   2                            \n",
       "1121                                                  1                            \n",
       "1122                                                  0                            \n",
       "1126                                                  2                            \n",
       "1360                                                  2                            \n",
       "1361                                                  2                            \n",
       "1775                                                  2                            \n",
       "1776                                                  2                            \n",
       "1777                                                  2                            \n",
       "1778                                                  2                            \n",
       "1815                                                  2                            \n",
       "2346                                                  2                            \n",
       "2347                                                  2                            \n",
       "\n",
       "      code avion (1 : par avion)        Livraison Matériau d'emballage  ...  \\\n",
       "443                            0            Glacé                 LDPE  ...   \n",
       "479                            0            Glacé                   PS  ...   \n",
       "711                            0            Glacé               Carton  ...   \n",
       "816                            0  Ambiant (moyen)      Pas d'emballage  ...   \n",
       "870                            0  Ambiant (moyen)      Pas d'emballage  ...   \n",
       "871                            0  Ambiant (moyen)      Pas d'emballage  ...   \n",
       "872                            0  Ambiant (moyen)      Pas d'emballage  ...   \n",
       "909                            1  Ambiant (moyen)      Pas d'emballage  ...   \n",
       "911                            0  Ambiant (moyen)      Pas d'emballage  ...   \n",
       "958                            0  Ambiant (moyen)      Pas d'emballage  ...   \n",
       "959                            1  Ambiant (moyen)      Pas d'emballage  ...   \n",
       "960                            0  Ambiant (moyen)      Pas d'emballage  ...   \n",
       "1121                           0  Ambiant (moyen)      Pas d'emballage  ...   \n",
       "1122                           0  Ambiant (moyen)      Pas d'emballage  ...   \n",
       "1126                           0  Ambiant (moyen)      Pas d'emballage  ...   \n",
       "1360                           0            Glacé                 LDPE  ...   \n",
       "1361                           0            Glacé                 LDPE  ...   \n",
       "1775                           0   Ambiant (long)                 LDPE  ...   \n",
       "1776                           0   Ambiant (long)                   PP  ...   \n",
       "1777                           0   Ambiant (long)                   PP  ...   \n",
       "1778                           0   Ambiant (long)                 LDPE  ...   \n",
       "1815                           0  Ambiant (court)                 LDPE  ...   \n",
       "2346                           0   Ambiant (long)                 LDPE  ...   \n",
       "2347                           0   Ambiant (long)                 LDPE  ...   \n",
       "\n",
       "     CTUh/kg de produit.1  mol H+ eq/kg de produit  kg P eq/kg de produit  \\\n",
       "443          1.971148e-09                 0.022188               0.000444   \n",
       "479          6.912349e-09                 0.171413               0.000983   \n",
       "711          2.053679e-09                 0.016726               0.000401   \n",
       "816          4.354974e-10                 0.008376               0.000237   \n",
       "870          6.598422e-10                 0.007189               0.000099   \n",
       "871          6.230920e-10                 0.007656               0.000103   \n",
       "872          6.498666e-10                 0.007315               0.000100   \n",
       "909          1.032672e-09                 0.038201               0.000174   \n",
       "911          4.631635e-10                 0.006482               0.000101   \n",
       "958          4.482953e-10                 0.005622               0.000094   \n",
       "959          1.283514e-09                 0.057386               0.000215   \n",
       "960          3.689144e-10                 0.007310               0.000088   \n",
       "1121         5.234598e-10                 0.002825               0.000072   \n",
       "1122         2.324822e-09                 0.008161               0.000412   \n",
       "1126         1.339097e-09                 0.004444               0.000109   \n",
       "1360         5.545613e-09                 0.027257               0.008090   \n",
       "1361         5.549088e-09                 0.027338               0.008118   \n",
       "1775         4.055903e-09                 0.025979               0.000692   \n",
       "1776         1.792165e-09                 0.011377               0.000287   \n",
       "1777         1.727455e-09                 0.013436               0.000106   \n",
       "1778         3.909708e-09                 0.030630               0.000283   \n",
       "1815         1.405455e-09                 0.012289               0.000272   \n",
       "2346         6.946551e-10                 0.002927               0.000189   \n",
       "2347         1.681560e-09                 0.007056               0.000459   \n",
       "\n",
       "      kg N eq/kg de produit  mol N eq/kg de produit  CTUe/kg de produit  \\\n",
       "443                0.010083                0.087518           27.224499   \n",
       "479                0.042842                0.748660           74.854240   \n",
       "711                0.010000                0.066934           24.694013   \n",
       "816                0.001860                0.026011          199.973880   \n",
       "870                0.005001                0.029057           11.327946   \n",
       "871                0.005257                0.030802           11.676213   \n",
       "872                0.005071                0.029530           11.422436   \n",
       "909                0.014370                0.154528           29.701213   \n",
       "911                0.002711                0.026870            5.701967   \n",
       "958                0.001443                0.021533           26.195068   \n",
       "959                0.020208                0.228891           54.782786   \n",
       "960                0.001461                0.023759           15.353090   \n",
       "1121               0.001408                0.010045            3.633278   \n",
       "1122               0.002847                0.023854           18.298315   \n",
       "1126               0.001606                0.015100           10.732878   \n",
       "1360               0.012589                0.071855           87.209422   \n",
       "1361               0.012600                0.071922           87.263000   \n",
       "1775               0.101101                0.096926           65.073967   \n",
       "1776               0.044726                0.042628           28.689239   \n",
       "1777               0.006196                0.054451           58.395962   \n",
       "1778               0.014055                0.123636          132.187540   \n",
       "1815               0.007777                0.050117           15.475633   \n",
       "2346               0.003199                0.010112           24.475225   \n",
       "2347               0.007854                0.024639           60.395559   \n",
       "\n",
       "      Pt/kg de produit  m3 depriv./kg de produit  MJ/kg de produit  \\\n",
       "443         126.448970                  1.396874         56.703059   \n",
       "479         879.566910                  3.472435         68.490494   \n",
       "711         133.295170                  1.731734         53.114566   \n",
       "816          53.502081                 32.913552         13.739081   \n",
       "870          62.517971                  6.885207          7.631611   \n",
       "871         114.054430                  6.887865          8.764672   \n",
       "872          76.504223                  6.885928          7.939035   \n",
       "909          95.232532                  6.491131         92.389981   \n",
       "911          83.934259                  6.436990          7.157215   \n",
       "958          26.999967                 10.942448          7.283194   \n",
       "959          50.740043                 16.624709        149.160950   \n",
       "960          32.172209                 16.551078          9.007039   \n",
       "1121         -2.266646                  1.893178          8.724414   \n",
       "1122          6.720441                  2.613154         28.951932   \n",
       "1126          1.744699                  2.292358          9.978727   \n",
       "1360        116.330600                  6.301223         44.823948   \n",
       "1361        116.338930                  6.310679         44.999897   \n",
       "1775        291.028520                 80.920559         36.319643   \n",
       "1776        128.482420                 35.763685         17.422906   \n",
       "1777         69.008181                 13.675218         24.102981   \n",
       "1778        156.664030                 31.018189         51.411244   \n",
       "1815        103.313340                  1.029309         22.617455   \n",
       "2346         56.420150                  0.176163          7.712391   \n",
       "2347        139.339940                  0.359395         15.314570   \n",
       "\n",
       "      kg Sb eq/kg de produit  \n",
       "443                 0.000014  \n",
       "479                 0.000030  \n",
       "711                 0.000013  \n",
       "816                 0.000005  \n",
       "870                 0.000003  \n",
       "871                 0.000004  \n",
       "872                 0.000003  \n",
       "909                 0.000004  \n",
       "911                 0.000003  \n",
       "958                 0.000005  \n",
       "959                 0.000008  \n",
       "960                 0.000006  \n",
       "1121                0.000004  \n",
       "1122                0.000011  \n",
       "1126                0.000006  \n",
       "1360                0.000023  \n",
       "1361                0.000023  \n",
       "1775                0.000053  \n",
       "1776                0.000024  \n",
       "1777                0.000006  \n",
       "1778                0.000013  \n",
       "1815                0.000006  \n",
       "2346                0.000002  \n",
       "2347                0.000004  \n",
       "\n",
       "[24 rows x 29 columns]"
      ]
     },
     "execution_count": 9,
     "metadata": {},
     "output_type": "execute_result"
    }
   ],
   "source": [
    "result = df_synthese['Code\\nAGB'].str.contains('_', regex=True)\n",
    "df_result = df_synthese[result]\n",
    "df_result"
   ]
  },
  {
   "attachments": {},
   "cell_type": "markdown",
   "metadata": {},
   "source": [
    "### Joindre 2 dataframe sous pandas sur la colonne \"Code\\nAGB\""
   ]
  },
  {
   "cell_type": "code",
   "execution_count": 10,
   "metadata": {},
   "outputs": [
    {
     "data": {
      "text/html": [
       "<div>\n",
       "<style scoped>\n",
       "    .dataframe tbody tr th:only-of-type {\n",
       "        vertical-align: middle;\n",
       "    }\n",
       "\n",
       "    .dataframe tbody tr th {\n",
       "        vertical-align: top;\n",
       "    }\n",
       "\n",
       "    .dataframe thead th {\n",
       "        text-align: right;\n",
       "    }\n",
       "</style>\n",
       "<table border=\"1\" class=\"dataframe\">\n",
       "  <thead>\n",
       "    <tr style=\"text-align: right;\">\n",
       "      <th></th>\n",
       "      <th>Code\\nAGB</th>\n",
       "      <th>Code\\nCIQUAL</th>\n",
       "      <th>Groupe d'aliment</th>\n",
       "      <th>Sous-groupe d'aliment</th>\n",
       "      <th>Nom du Produit en Français</th>\n",
       "      <th>LCI Name</th>\n",
       "      <th>code saison (0 : hors saison ; 1 : de saison ; 2 : mix de consommation FR)</th>\n",
       "      <th>code avion (1 : par avion)</th>\n",
       "      <th>Livraison</th>\n",
       "      <th>Matériau d'emballage</th>\n",
       "      <th>...</th>\n",
       "      <th>kg P eq/kg de produit</th>\n",
       "      <th>kg N eq/kg de produit</th>\n",
       "      <th>mol N eq/kg de produit</th>\n",
       "      <th>CTUe/kg de produit</th>\n",
       "      <th>Pt/kg de produit</th>\n",
       "      <th>m3 depriv./kg de produit</th>\n",
       "      <th>MJ/kg de produit</th>\n",
       "      <th>kg Sb eq/kg de produit</th>\n",
       "      <th>ingredient</th>\n",
       "      <th>mass</th>\n",
       "    </tr>\n",
       "  </thead>\n",
       "  <tbody>\n",
       "    <tr>\n",
       "      <th>0</th>\n",
       "      <td>4020</td>\n",
       "      <td>4020</td>\n",
       "      <td>fruits, légumes, légumineuses et oléagineux</td>\n",
       "      <td>pommes de terre et autres tubercules</td>\n",
       "      <td>Pomme de terre dauphine, surgelée, crue</td>\n",
       "      <td>Dauphine potato, frozen, raw</td>\n",
       "      <td>2</td>\n",
       "      <td>0</td>\n",
       "      <td>Congelé</td>\n",
       "      <td>LDPE</td>\n",
       "      <td>...</td>\n",
       "      <td>0.000391</td>\n",
       "      <td>0.008102</td>\n",
       "      <td>0.115479</td>\n",
       "      <td>28.435919</td>\n",
       "      <td>109.80654</td>\n",
       "      <td>1.728802</td>\n",
       "      <td>31.596952</td>\n",
       "      <td>0.000010</td>\n",
       "      <td>pommes</td>\n",
       "      <td>450</td>\n",
       "    </tr>\n",
       "    <tr>\n",
       "      <th>1</th>\n",
       "      <td>19431</td>\n",
       "      <td>19431</td>\n",
       "      <td>lait et produits laitiers</td>\n",
       "      <td>crèmes et spécialités à base de crème</td>\n",
       "      <td>Crème de lait, 15 à 20% MG, légère, épaisse, r...</td>\n",
       "      <td>Thick cream, light, 15-20% fat, refrigerated</td>\n",
       "      <td>2</td>\n",
       "      <td>0</td>\n",
       "      <td>Glacé</td>\n",
       "      <td>PP</td>\n",
       "      <td>...</td>\n",
       "      <td>0.000317</td>\n",
       "      <td>0.007855</td>\n",
       "      <td>0.104007</td>\n",
       "      <td>25.270139</td>\n",
       "      <td>127.58735</td>\n",
       "      <td>0.618790</td>\n",
       "      <td>19.919069</td>\n",
       "      <td>0.000018</td>\n",
       "      <td>crème fraîche</td>\n",
       "      <td>250</td>\n",
       "    </tr>\n",
       "    <tr>\n",
       "      <th>2</th>\n",
       "      <td>23410</td>\n",
       "      <td>23410</td>\n",
       "      <td>produits céréaliers</td>\n",
       "      <td>farines et pâtes à tarte</td>\n",
       "      <td>Pâte brisée, crue</td>\n",
       "      <td>Short crust pastry, raw</td>\n",
       "      <td>2</td>\n",
       "      <td>0</td>\n",
       "      <td>Glacé</td>\n",
       "      <td>LDPE</td>\n",
       "      <td>...</td>\n",
       "      <td>0.000473</td>\n",
       "      <td>0.013099</td>\n",
       "      <td>0.141044</td>\n",
       "      <td>34.878616</td>\n",
       "      <td>189.15010</td>\n",
       "      <td>1.238976</td>\n",
       "      <td>42.629238</td>\n",
       "      <td>0.000015</td>\n",
       "      <td>pâte brisée</td>\n",
       "      <td>200</td>\n",
       "    </tr>\n",
       "    <tr>\n",
       "      <th>3</th>\n",
       "      <td>31016</td>\n",
       "      <td>31016</td>\n",
       "      <td>produits sucrés</td>\n",
       "      <td>sucres, miels et assimilés</td>\n",
       "      <td>Sucre blanc</td>\n",
       "      <td>Sugar, white</td>\n",
       "      <td>2</td>\n",
       "      <td>0</td>\n",
       "      <td>Ambiant (long)</td>\n",
       "      <td>Papier</td>\n",
       "      <td>...</td>\n",
       "      <td>0.000156</td>\n",
       "      <td>0.005153</td>\n",
       "      <td>0.068461</td>\n",
       "      <td>8.535527</td>\n",
       "      <td>33.33012</td>\n",
       "      <td>2.118292</td>\n",
       "      <td>8.183917</td>\n",
       "      <td>0.000005</td>\n",
       "      <td>sucre en poudre</td>\n",
       "      <td>100</td>\n",
       "    </tr>\n",
       "    <tr>\n",
       "      <th>4</th>\n",
       "      <td>31044</td>\n",
       "      <td>31044</td>\n",
       "      <td>produits sucrés</td>\n",
       "      <td>sucres, miels et assimilés</td>\n",
       "      <td>Sucre vanillé</td>\n",
       "      <td>Sugar, vanilla flavoured</td>\n",
       "      <td>2</td>\n",
       "      <td>0</td>\n",
       "      <td>Ambiant (long)</td>\n",
       "      <td>Papier</td>\n",
       "      <td>...</td>\n",
       "      <td>0.000156</td>\n",
       "      <td>0.005153</td>\n",
       "      <td>0.068461</td>\n",
       "      <td>8.535527</td>\n",
       "      <td>33.33012</td>\n",
       "      <td>2.118292</td>\n",
       "      <td>8.183917</td>\n",
       "      <td>0.000005</td>\n",
       "      <td>sucre vanillé</td>\n",
       "      <td>10</td>\n",
       "    </tr>\n",
       "    <tr>\n",
       "      <th>5</th>\n",
       "      <td>22000</td>\n",
       "      <td>22000</td>\n",
       "      <td>viandes, œufs, poissons</td>\n",
       "      <td>œufs</td>\n",
       "      <td>Oeuf, cru</td>\n",
       "      <td>Egg, raw</td>\n",
       "      <td>2</td>\n",
       "      <td>0</td>\n",
       "      <td>Ambiant (moyen)</td>\n",
       "      <td>Carton</td>\n",
       "      <td>...</td>\n",
       "      <td>0.000826</td>\n",
       "      <td>0.018525</td>\n",
       "      <td>0.363972</td>\n",
       "      <td>80.170819</td>\n",
       "      <td>235.75574</td>\n",
       "      <td>4.310059</td>\n",
       "      <td>20.820181</td>\n",
       "      <td>0.000012</td>\n",
       "      <td>oeufs</td>\n",
       "      <td>100</td>\n",
       "    </tr>\n",
       "  </tbody>\n",
       "</table>\n",
       "<p>6 rows × 31 columns</p>\n",
       "</div>"
      ],
      "text/plain": [
       "  Code\\nAGB  Code\\nCIQUAL                             Groupe d'aliment  \\\n",
       "0      4020          4020  fruits, légumes, légumineuses et oléagineux   \n",
       "1     19431         19431                    lait et produits laitiers   \n",
       "2     23410         23410                          produits céréaliers   \n",
       "3     31016         31016                              produits sucrés   \n",
       "4     31044         31044                              produits sucrés   \n",
       "5     22000         22000                      viandes, œufs, poissons   \n",
       "\n",
       "                   Sous-groupe d'aliment  \\\n",
       "0   pommes de terre et autres tubercules   \n",
       "1  crèmes et spécialités à base de crème   \n",
       "2               farines et pâtes à tarte   \n",
       "3             sucres, miels et assimilés   \n",
       "4             sucres, miels et assimilés   \n",
       "5                                   œufs   \n",
       "\n",
       "                          Nom du Produit en Français  \\\n",
       "0            Pomme de terre dauphine, surgelée, crue   \n",
       "1  Crème de lait, 15 à 20% MG, légère, épaisse, r...   \n",
       "2                                  Pâte brisée, crue   \n",
       "3                                        Sucre blanc   \n",
       "4                                      Sucre vanillé   \n",
       "5                                          Oeuf, cru   \n",
       "\n",
       "                                       LCI Name  \\\n",
       "0                  Dauphine potato, frozen, raw   \n",
       "1  Thick cream, light, 15-20% fat, refrigerated   \n",
       "2                       Short crust pastry, raw   \n",
       "3                                  Sugar, white   \n",
       "4                      Sugar, vanilla flavoured   \n",
       "5                                      Egg, raw   \n",
       "\n",
       "   code saison (0 : hors saison ; 1 : de saison ; 2 : mix de consommation FR)  \\\n",
       "0                                                  2                            \n",
       "1                                                  2                            \n",
       "2                                                  2                            \n",
       "3                                                  2                            \n",
       "4                                                  2                            \n",
       "5                                                  2                            \n",
       "\n",
       "   code avion (1 : par avion)        Livraison Matériau d'emballage  ...  \\\n",
       "0                           0          Congelé                 LDPE  ...   \n",
       "1                           0            Glacé                   PP  ...   \n",
       "2                           0            Glacé                 LDPE  ...   \n",
       "3                           0   Ambiant (long)               Papier  ...   \n",
       "4                           0   Ambiant (long)               Papier  ...   \n",
       "5                           0  Ambiant (moyen)               Carton  ...   \n",
       "\n",
       "  kg P eq/kg de produit  kg N eq/kg de produit  mol N eq/kg de produit  \\\n",
       "0              0.000391               0.008102                0.115479   \n",
       "1              0.000317               0.007855                0.104007   \n",
       "2              0.000473               0.013099                0.141044   \n",
       "3              0.000156               0.005153                0.068461   \n",
       "4              0.000156               0.005153                0.068461   \n",
       "5              0.000826               0.018525                0.363972   \n",
       "\n",
       "   CTUe/kg de produit  Pt/kg de produit  m3 depriv./kg de produit  \\\n",
       "0           28.435919         109.80654                  1.728802   \n",
       "1           25.270139         127.58735                  0.618790   \n",
       "2           34.878616         189.15010                  1.238976   \n",
       "3            8.535527          33.33012                  2.118292   \n",
       "4            8.535527          33.33012                  2.118292   \n",
       "5           80.170819         235.75574                  4.310059   \n",
       "\n",
       "   MJ/kg de produit  kg Sb eq/kg de produit       ingredient  mass  \n",
       "0         31.596952                0.000010           pommes   450  \n",
       "1         19.919069                0.000018    crème fraîche   250  \n",
       "2         42.629238                0.000015      pâte brisée   200  \n",
       "3          8.183917                0.000005  sucre en poudre   100  \n",
       "4          8.183917                0.000005    sucre vanillé    10  \n",
       "5         20.820181                0.000012            oeufs   100  \n",
       "\n",
       "[6 rows x 31 columns]"
      ]
     },
     "execution_count": 10,
     "metadata": {},
     "output_type": "execute_result"
    }
   ],
   "source": [
    "df_fusion = pd.merge(df_synthese, ingredients_recipe, on='Code\\nAGB')\n",
    "df_fusion"
   ]
  },
  {
   "cell_type": "code",
   "execution_count": 11,
   "metadata": {},
   "outputs": [
    {
     "name": "stdout",
     "output_type": "stream",
     "text": [
      "Index(['Code\\nAGB', 'Code\\nCIQUAL', 'Groupe d'aliment',\n",
      "       'Sous-groupe d'aliment', 'Nom du Produit en Français', 'LCI Name',\n",
      "       'code saison (0 : hors saison ; 1 : de saison ; 2 : mix de consommation FR)',\n",
      "       'code avion (1 : par avion)', 'Livraison', 'Matériau d'emballage',\n",
      "       'Préparation',\n",
      "       'DQR - Note de qualité de la donnée (1 excellente ; 5 très faible)',\n",
      "       'mPt/kg de produit', 'kg CO2 eq/kg de produit',\n",
      "       'kg CVC11 eq/kg de produit', 'kBq U-235 eq/kg de produit',\n",
      "       'kg NMVOC eq/kg de produit', 'disease inc./kg de produit',\n",
      "       'CTUh/kg de produit', 'CTUh/kg de produit.1', 'mol H+ eq/kg de produit',\n",
      "       'kg P eq/kg de produit', 'kg N eq/kg de produit',\n",
      "       'mol N eq/kg de produit', 'CTUe/kg de produit', 'Pt/kg de produit',\n",
      "       'm3 depriv./kg de produit', 'MJ/kg de produit',\n",
      "       'kg Sb eq/kg de produit', 'ingredient', 'mass'],\n",
      "      dtype='object')\n"
     ]
    }
   ],
   "source": [
    "print(df_fusion.columns)"
   ]
  },
  {
   "cell_type": "code",
   "execution_count": 12,
   "metadata": {},
   "outputs": [
    {
     "data": {
      "text/html": [
       "<div>\n",
       "<style scoped>\n",
       "    .dataframe tbody tr th:only-of-type {\n",
       "        vertical-align: middle;\n",
       "    }\n",
       "\n",
       "    .dataframe tbody tr th {\n",
       "        vertical-align: top;\n",
       "    }\n",
       "\n",
       "    .dataframe thead th {\n",
       "        text-align: right;\n",
       "    }\n",
       "</style>\n",
       "<table border=\"1\" class=\"dataframe\">\n",
       "  <thead>\n",
       "    <tr style=\"text-align: right;\">\n",
       "      <th></th>\n",
       "      <th>Code\\nAGB</th>\n",
       "      <th>Code\\nCIQUAL</th>\n",
       "      <th>Groupe d'aliment</th>\n",
       "      <th>Sous-groupe d'aliment</th>\n",
       "      <th>Nom du Produit en Français</th>\n",
       "      <th>LCI Name</th>\n",
       "      <th>code saison (0 : hors saison ; 1 : de saison ; 2 : mix de consommation FR)</th>\n",
       "      <th>code avion (1 : par avion)</th>\n",
       "      <th>Livraison</th>\n",
       "      <th>Matériau d'emballage</th>\n",
       "      <th>...</th>\n",
       "      <th>kg N eq/kg de produit</th>\n",
       "      <th>mol N eq/kg de produit</th>\n",
       "      <th>CTUe/kg de produit</th>\n",
       "      <th>Pt/kg de produit</th>\n",
       "      <th>m3 depriv./kg de produit</th>\n",
       "      <th>MJ/kg de produit</th>\n",
       "      <th>kg Sb eq/kg de produit</th>\n",
       "      <th>ingredient</th>\n",
       "      <th>mass</th>\n",
       "      <th>kg CO2 eq</th>\n",
       "    </tr>\n",
       "  </thead>\n",
       "  <tbody>\n",
       "    <tr>\n",
       "      <th>0</th>\n",
       "      <td>4020</td>\n",
       "      <td>4020</td>\n",
       "      <td>fruits, légumes, légumineuses et oléagineux</td>\n",
       "      <td>pommes de terre et autres tubercules</td>\n",
       "      <td>Pomme de terre dauphine, surgelée, crue</td>\n",
       "      <td>Dauphine potato, frozen, raw</td>\n",
       "      <td>2</td>\n",
       "      <td>0</td>\n",
       "      <td>Congelé</td>\n",
       "      <td>LDPE</td>\n",
       "      <td>...</td>\n",
       "      <td>0.008102</td>\n",
       "      <td>0.115479</td>\n",
       "      <td>28.435919</td>\n",
       "      <td>109.80654</td>\n",
       "      <td>1.728802</td>\n",
       "      <td>31.596952</td>\n",
       "      <td>0.000010</td>\n",
       "      <td>pommes</td>\n",
       "      <td>450</td>\n",
       "      <td>0.214459</td>\n",
       "    </tr>\n",
       "    <tr>\n",
       "      <th>1</th>\n",
       "      <td>19431</td>\n",
       "      <td>19431</td>\n",
       "      <td>lait et produits laitiers</td>\n",
       "      <td>crèmes et spécialités à base de crème</td>\n",
       "      <td>Crème de lait, 15 à 20% MG, légère, épaisse, r...</td>\n",
       "      <td>Thick cream, light, 15-20% fat, refrigerated</td>\n",
       "      <td>2</td>\n",
       "      <td>0</td>\n",
       "      <td>Glacé</td>\n",
       "      <td>PP</td>\n",
       "      <td>...</td>\n",
       "      <td>0.007855</td>\n",
       "      <td>0.104007</td>\n",
       "      <td>25.270139</td>\n",
       "      <td>127.58735</td>\n",
       "      <td>0.618790</td>\n",
       "      <td>19.919069</td>\n",
       "      <td>0.000018</td>\n",
       "      <td>crème fraîche</td>\n",
       "      <td>250</td>\n",
       "      <td>0.097856</td>\n",
       "    </tr>\n",
       "    <tr>\n",
       "      <th>2</th>\n",
       "      <td>23410</td>\n",
       "      <td>23410</td>\n",
       "      <td>produits céréaliers</td>\n",
       "      <td>farines et pâtes à tarte</td>\n",
       "      <td>Pâte brisée, crue</td>\n",
       "      <td>Short crust pastry, raw</td>\n",
       "      <td>2</td>\n",
       "      <td>0</td>\n",
       "      <td>Glacé</td>\n",
       "      <td>LDPE</td>\n",
       "      <td>...</td>\n",
       "      <td>0.013099</td>\n",
       "      <td>0.141044</td>\n",
       "      <td>34.878616</td>\n",
       "      <td>189.15010</td>\n",
       "      <td>1.238976</td>\n",
       "      <td>42.629238</td>\n",
       "      <td>0.000015</td>\n",
       "      <td>pâte brisée</td>\n",
       "      <td>200</td>\n",
       "      <td>0.060499</td>\n",
       "    </tr>\n",
       "    <tr>\n",
       "      <th>3</th>\n",
       "      <td>31016</td>\n",
       "      <td>31016</td>\n",
       "      <td>produits sucrés</td>\n",
       "      <td>sucres, miels et assimilés</td>\n",
       "      <td>Sucre blanc</td>\n",
       "      <td>Sugar, white</td>\n",
       "      <td>2</td>\n",
       "      <td>0</td>\n",
       "      <td>Ambiant (long)</td>\n",
       "      <td>Papier</td>\n",
       "      <td>...</td>\n",
       "      <td>0.005153</td>\n",
       "      <td>0.068461</td>\n",
       "      <td>8.535527</td>\n",
       "      <td>33.33012</td>\n",
       "      <td>2.118292</td>\n",
       "      <td>8.183917</td>\n",
       "      <td>0.000005</td>\n",
       "      <td>sucre en poudre</td>\n",
       "      <td>100</td>\n",
       "      <td>0.162804</td>\n",
       "    </tr>\n",
       "    <tr>\n",
       "      <th>4</th>\n",
       "      <td>31044</td>\n",
       "      <td>31044</td>\n",
       "      <td>produits sucrés</td>\n",
       "      <td>sucres, miels et assimilés</td>\n",
       "      <td>Sucre vanillé</td>\n",
       "      <td>Sugar, vanilla flavoured</td>\n",
       "      <td>2</td>\n",
       "      <td>0</td>\n",
       "      <td>Ambiant (long)</td>\n",
       "      <td>Papier</td>\n",
       "      <td>...</td>\n",
       "      <td>0.005153</td>\n",
       "      <td>0.068461</td>\n",
       "      <td>8.535527</td>\n",
       "      <td>33.33012</td>\n",
       "      <td>2.118292</td>\n",
       "      <td>8.183917</td>\n",
       "      <td>0.000005</td>\n",
       "      <td>sucre vanillé</td>\n",
       "      <td>10</td>\n",
       "      <td>0.016280</td>\n",
       "    </tr>\n",
       "    <tr>\n",
       "      <th>5</th>\n",
       "      <td>22000</td>\n",
       "      <td>22000</td>\n",
       "      <td>viandes, œufs, poissons</td>\n",
       "      <td>œufs</td>\n",
       "      <td>Oeuf, cru</td>\n",
       "      <td>Egg, raw</td>\n",
       "      <td>2</td>\n",
       "      <td>0</td>\n",
       "      <td>Ambiant (moyen)</td>\n",
       "      <td>Carton</td>\n",
       "      <td>...</td>\n",
       "      <td>0.018525</td>\n",
       "      <td>0.363972</td>\n",
       "      <td>80.170819</td>\n",
       "      <td>235.75574</td>\n",
       "      <td>4.310059</td>\n",
       "      <td>20.820181</td>\n",
       "      <td>0.000012</td>\n",
       "      <td>oeufs</td>\n",
       "      <td>100</td>\n",
       "      <td>0.031303</td>\n",
       "    </tr>\n",
       "  </tbody>\n",
       "</table>\n",
       "<p>6 rows × 32 columns</p>\n",
       "</div>"
      ],
      "text/plain": [
       "  Code\\nAGB  Code\\nCIQUAL                             Groupe d'aliment  \\\n",
       "0      4020          4020  fruits, légumes, légumineuses et oléagineux   \n",
       "1     19431         19431                    lait et produits laitiers   \n",
       "2     23410         23410                          produits céréaliers   \n",
       "3     31016         31016                              produits sucrés   \n",
       "4     31044         31044                              produits sucrés   \n",
       "5     22000         22000                      viandes, œufs, poissons   \n",
       "\n",
       "                   Sous-groupe d'aliment  \\\n",
       "0   pommes de terre et autres tubercules   \n",
       "1  crèmes et spécialités à base de crème   \n",
       "2               farines et pâtes à tarte   \n",
       "3             sucres, miels et assimilés   \n",
       "4             sucres, miels et assimilés   \n",
       "5                                   œufs   \n",
       "\n",
       "                          Nom du Produit en Français  \\\n",
       "0            Pomme de terre dauphine, surgelée, crue   \n",
       "1  Crème de lait, 15 à 20% MG, légère, épaisse, r...   \n",
       "2                                  Pâte brisée, crue   \n",
       "3                                        Sucre blanc   \n",
       "4                                      Sucre vanillé   \n",
       "5                                          Oeuf, cru   \n",
       "\n",
       "                                       LCI Name  \\\n",
       "0                  Dauphine potato, frozen, raw   \n",
       "1  Thick cream, light, 15-20% fat, refrigerated   \n",
       "2                       Short crust pastry, raw   \n",
       "3                                  Sugar, white   \n",
       "4                      Sugar, vanilla flavoured   \n",
       "5                                      Egg, raw   \n",
       "\n",
       "   code saison (0 : hors saison ; 1 : de saison ; 2 : mix de consommation FR)  \\\n",
       "0                                                  2                            \n",
       "1                                                  2                            \n",
       "2                                                  2                            \n",
       "3                                                  2                            \n",
       "4                                                  2                            \n",
       "5                                                  2                            \n",
       "\n",
       "   code avion (1 : par avion)        Livraison Matériau d'emballage  ...  \\\n",
       "0                           0          Congelé                 LDPE  ...   \n",
       "1                           0            Glacé                   PP  ...   \n",
       "2                           0            Glacé                 LDPE  ...   \n",
       "3                           0   Ambiant (long)               Papier  ...   \n",
       "4                           0   Ambiant (long)               Papier  ...   \n",
       "5                           0  Ambiant (moyen)               Carton  ...   \n",
       "\n",
       "  kg N eq/kg de produit  mol N eq/kg de produit  CTUe/kg de produit  \\\n",
       "0              0.008102                0.115479           28.435919   \n",
       "1              0.007855                0.104007           25.270139   \n",
       "2              0.013099                0.141044           34.878616   \n",
       "3              0.005153                0.068461            8.535527   \n",
       "4              0.005153                0.068461            8.535527   \n",
       "5              0.018525                0.363972           80.170819   \n",
       "\n",
       "   Pt/kg de produit  m3 depriv./kg de produit  MJ/kg de produit  \\\n",
       "0         109.80654                  1.728802         31.596952   \n",
       "1         127.58735                  0.618790         19.919069   \n",
       "2         189.15010                  1.238976         42.629238   \n",
       "3          33.33012                  2.118292          8.183917   \n",
       "4          33.33012                  2.118292          8.183917   \n",
       "5         235.75574                  4.310059         20.820181   \n",
       "\n",
       "   kg Sb eq/kg de produit       ingredient  mass  kg CO2 eq  \n",
       "0                0.000010           pommes   450   0.214459  \n",
       "1                0.000018    crème fraîche   250   0.097856  \n",
       "2                0.000015      pâte brisée   200   0.060499  \n",
       "3                0.000005  sucre en poudre   100   0.162804  \n",
       "4                0.000005    sucre vanillé    10   0.016280  \n",
       "5                0.000012            oeufs   100   0.031303  \n",
       "\n",
       "[6 rows x 32 columns]"
      ]
     },
     "execution_count": 12,
     "metadata": {},
     "output_type": "execute_result"
    }
   ],
   "source": [
    "df_fusion['kg CO2 eq'] = df_fusion['mass'] / (1000 * df_fusion['kg CO2 eq/kg de produit'])\n",
    "df_fusion"
   ]
  },
  {
   "cell_type": "code",
   "execution_count": 13,
   "metadata": {},
   "outputs": [
    {
     "data": {
      "application/vnd.plotly.v1+json": {
       "config": {
        "plotlyServerURL": "https://plot.ly"
       },
       "data": [
        {
         "alignmentgroup": "True",
         "hovertemplate": "color=red<br>x=%{x}<br>y=%{y}<extra></extra>",
         "legendgroup": "red",
         "marker": {
          "color": "#636efa",
          "pattern": {
           "shape": ""
          }
         },
         "name": "red",
         "offsetgroup": "red",
         "orientation": "v",
         "showlegend": true,
         "textposition": "auto",
         "texttemplate": "%{y}",
         "type": "bar",
         "x": [
          "pommes"
         ],
         "xaxis": "x",
         "y": [
          0.21445860877364464
         ],
         "yaxis": "y"
        },
        {
         "alignmentgroup": "True",
         "hovertemplate": "color=green<br>x=%{x}<br>y=%{y}<extra></extra>",
         "legendgroup": "green",
         "marker": {
          "color": "#EF553B",
          "pattern": {
           "shape": ""
          }
         },
         "name": "green",
         "offsetgroup": "green",
         "orientation": "v",
         "showlegend": true,
         "textposition": "auto",
         "texttemplate": "%{y}",
         "type": "bar",
         "x": [
          "crème fraîche"
         ],
         "xaxis": "x",
         "y": [
          0.09785615560036845
         ],
         "yaxis": "y"
        },
        {
         "alignmentgroup": "True",
         "hovertemplate": "color=blue<br>x=%{x}<br>y=%{y}<extra></extra>",
         "legendgroup": "blue",
         "marker": {
          "color": "#00cc96",
          "pattern": {
           "shape": ""
          }
         },
         "name": "blue",
         "offsetgroup": "blue",
         "orientation": "v",
         "showlegend": true,
         "textposition": "auto",
         "texttemplate": "%{y}",
         "type": "bar",
         "x": [
          "pâte brisée"
         ],
         "xaxis": "x",
         "y": [
          0.06049922630564439
         ],
         "yaxis": "y"
        },
        {
         "alignmentgroup": "True",
         "hovertemplate": "color=orange<br>x=%{x}<br>y=%{y}<extra></extra>",
         "legendgroup": "orange",
         "marker": {
          "color": "#ab63fa",
          "pattern": {
           "shape": ""
          }
         },
         "name": "orange",
         "offsetgroup": "orange",
         "orientation": "v",
         "showlegend": true,
         "textposition": "auto",
         "texttemplate": "%{y}",
         "type": "bar",
         "x": [
          "sucre en poudre"
         ],
         "xaxis": "x",
         "y": [
          0.16280398475125782
         ],
         "yaxis": "y"
        },
        {
         "alignmentgroup": "True",
         "hovertemplate": "color=purple<br>x=%{x}<br>y=%{y}<extra></extra>",
         "legendgroup": "purple",
         "marker": {
          "color": "#FFA15A",
          "pattern": {
           "shape": ""
          }
         },
         "name": "purple",
         "offsetgroup": "purple",
         "orientation": "v",
         "showlegend": true,
         "textposition": "auto",
         "texttemplate": "%{y}",
         "type": "bar",
         "x": [
          "sucre vanillé"
         ],
         "xaxis": "x",
         "y": [
          0.01628039847512578
         ],
         "yaxis": "y"
        },
        {
         "alignmentgroup": "True",
         "hovertemplate": "color=yellow<br>x=%{x}<br>y=%{y}<extra></extra>",
         "legendgroup": "yellow",
         "marker": {
          "color": "#19d3f3",
          "pattern": {
           "shape": ""
          }
         },
         "name": "yellow",
         "offsetgroup": "yellow",
         "orientation": "v",
         "showlegend": true,
         "textposition": "auto",
         "texttemplate": "%{y}",
         "type": "bar",
         "x": [
          "oeufs"
         ],
         "xaxis": "x",
         "y": [
          0.03130280783682072
         ],
         "yaxis": "y"
        }
       ],
       "layout": {
        "barmode": "relative",
        "legend": {
         "title": {
          "text": "color"
         },
         "tracegroupgap": 0
        },
        "margin": {
         "t": 60
        },
        "showlegend": false,
        "template": {
         "data": {
          "bar": [
           {
            "error_x": {
             "color": "#2a3f5f"
            },
            "error_y": {
             "color": "#2a3f5f"
            },
            "marker": {
             "line": {
              "color": "#E5ECF6",
              "width": 0.5
             },
             "pattern": {
              "fillmode": "overlay",
              "size": 10,
              "solidity": 0.2
             }
            },
            "type": "bar"
           }
          ],
          "barpolar": [
           {
            "marker": {
             "line": {
              "color": "#E5ECF6",
              "width": 0.5
             },
             "pattern": {
              "fillmode": "overlay",
              "size": 10,
              "solidity": 0.2
             }
            },
            "type": "barpolar"
           }
          ],
          "carpet": [
           {
            "aaxis": {
             "endlinecolor": "#2a3f5f",
             "gridcolor": "white",
             "linecolor": "white",
             "minorgridcolor": "white",
             "startlinecolor": "#2a3f5f"
            },
            "baxis": {
             "endlinecolor": "#2a3f5f",
             "gridcolor": "white",
             "linecolor": "white",
             "minorgridcolor": "white",
             "startlinecolor": "#2a3f5f"
            },
            "type": "carpet"
           }
          ],
          "choropleth": [
           {
            "colorbar": {
             "outlinewidth": 0,
             "ticks": ""
            },
            "type": "choropleth"
           }
          ],
          "contour": [
           {
            "colorbar": {
             "outlinewidth": 0,
             "ticks": ""
            },
            "colorscale": [
             [
              0,
              "#0d0887"
             ],
             [
              0.1111111111111111,
              "#46039f"
             ],
             [
              0.2222222222222222,
              "#7201a8"
             ],
             [
              0.3333333333333333,
              "#9c179e"
             ],
             [
              0.4444444444444444,
              "#bd3786"
             ],
             [
              0.5555555555555556,
              "#d8576b"
             ],
             [
              0.6666666666666666,
              "#ed7953"
             ],
             [
              0.7777777777777778,
              "#fb9f3a"
             ],
             [
              0.8888888888888888,
              "#fdca26"
             ],
             [
              1,
              "#f0f921"
             ]
            ],
            "type": "contour"
           }
          ],
          "contourcarpet": [
           {
            "colorbar": {
             "outlinewidth": 0,
             "ticks": ""
            },
            "type": "contourcarpet"
           }
          ],
          "heatmap": [
           {
            "colorbar": {
             "outlinewidth": 0,
             "ticks": ""
            },
            "colorscale": [
             [
              0,
              "#0d0887"
             ],
             [
              0.1111111111111111,
              "#46039f"
             ],
             [
              0.2222222222222222,
              "#7201a8"
             ],
             [
              0.3333333333333333,
              "#9c179e"
             ],
             [
              0.4444444444444444,
              "#bd3786"
             ],
             [
              0.5555555555555556,
              "#d8576b"
             ],
             [
              0.6666666666666666,
              "#ed7953"
             ],
             [
              0.7777777777777778,
              "#fb9f3a"
             ],
             [
              0.8888888888888888,
              "#fdca26"
             ],
             [
              1,
              "#f0f921"
             ]
            ],
            "type": "heatmap"
           }
          ],
          "heatmapgl": [
           {
            "colorbar": {
             "outlinewidth": 0,
             "ticks": ""
            },
            "colorscale": [
             [
              0,
              "#0d0887"
             ],
             [
              0.1111111111111111,
              "#46039f"
             ],
             [
              0.2222222222222222,
              "#7201a8"
             ],
             [
              0.3333333333333333,
              "#9c179e"
             ],
             [
              0.4444444444444444,
              "#bd3786"
             ],
             [
              0.5555555555555556,
              "#d8576b"
             ],
             [
              0.6666666666666666,
              "#ed7953"
             ],
             [
              0.7777777777777778,
              "#fb9f3a"
             ],
             [
              0.8888888888888888,
              "#fdca26"
             ],
             [
              1,
              "#f0f921"
             ]
            ],
            "type": "heatmapgl"
           }
          ],
          "histogram": [
           {
            "marker": {
             "pattern": {
              "fillmode": "overlay",
              "size": 10,
              "solidity": 0.2
             }
            },
            "type": "histogram"
           }
          ],
          "histogram2d": [
           {
            "colorbar": {
             "outlinewidth": 0,
             "ticks": ""
            },
            "colorscale": [
             [
              0,
              "#0d0887"
             ],
             [
              0.1111111111111111,
              "#46039f"
             ],
             [
              0.2222222222222222,
              "#7201a8"
             ],
             [
              0.3333333333333333,
              "#9c179e"
             ],
             [
              0.4444444444444444,
              "#bd3786"
             ],
             [
              0.5555555555555556,
              "#d8576b"
             ],
             [
              0.6666666666666666,
              "#ed7953"
             ],
             [
              0.7777777777777778,
              "#fb9f3a"
             ],
             [
              0.8888888888888888,
              "#fdca26"
             ],
             [
              1,
              "#f0f921"
             ]
            ],
            "type": "histogram2d"
           }
          ],
          "histogram2dcontour": [
           {
            "colorbar": {
             "outlinewidth": 0,
             "ticks": ""
            },
            "colorscale": [
             [
              0,
              "#0d0887"
             ],
             [
              0.1111111111111111,
              "#46039f"
             ],
             [
              0.2222222222222222,
              "#7201a8"
             ],
             [
              0.3333333333333333,
              "#9c179e"
             ],
             [
              0.4444444444444444,
              "#bd3786"
             ],
             [
              0.5555555555555556,
              "#d8576b"
             ],
             [
              0.6666666666666666,
              "#ed7953"
             ],
             [
              0.7777777777777778,
              "#fb9f3a"
             ],
             [
              0.8888888888888888,
              "#fdca26"
             ],
             [
              1,
              "#f0f921"
             ]
            ],
            "type": "histogram2dcontour"
           }
          ],
          "mesh3d": [
           {
            "colorbar": {
             "outlinewidth": 0,
             "ticks": ""
            },
            "type": "mesh3d"
           }
          ],
          "parcoords": [
           {
            "line": {
             "colorbar": {
              "outlinewidth": 0,
              "ticks": ""
             }
            },
            "type": "parcoords"
           }
          ],
          "pie": [
           {
            "automargin": true,
            "type": "pie"
           }
          ],
          "scatter": [
           {
            "fillpattern": {
             "fillmode": "overlay",
             "size": 10,
             "solidity": 0.2
            },
            "type": "scatter"
           }
          ],
          "scatter3d": [
           {
            "line": {
             "colorbar": {
              "outlinewidth": 0,
              "ticks": ""
             }
            },
            "marker": {
             "colorbar": {
              "outlinewidth": 0,
              "ticks": ""
             }
            },
            "type": "scatter3d"
           }
          ],
          "scattercarpet": [
           {
            "marker": {
             "colorbar": {
              "outlinewidth": 0,
              "ticks": ""
             }
            },
            "type": "scattercarpet"
           }
          ],
          "scattergeo": [
           {
            "marker": {
             "colorbar": {
              "outlinewidth": 0,
              "ticks": ""
             }
            },
            "type": "scattergeo"
           }
          ],
          "scattergl": [
           {
            "marker": {
             "colorbar": {
              "outlinewidth": 0,
              "ticks": ""
             }
            },
            "type": "scattergl"
           }
          ],
          "scattermapbox": [
           {
            "marker": {
             "colorbar": {
              "outlinewidth": 0,
              "ticks": ""
             }
            },
            "type": "scattermapbox"
           }
          ],
          "scatterpolar": [
           {
            "marker": {
             "colorbar": {
              "outlinewidth": 0,
              "ticks": ""
             }
            },
            "type": "scatterpolar"
           }
          ],
          "scatterpolargl": [
           {
            "marker": {
             "colorbar": {
              "outlinewidth": 0,
              "ticks": ""
             }
            },
            "type": "scatterpolargl"
           }
          ],
          "scatterternary": [
           {
            "marker": {
             "colorbar": {
              "outlinewidth": 0,
              "ticks": ""
             }
            },
            "type": "scatterternary"
           }
          ],
          "surface": [
           {
            "colorbar": {
             "outlinewidth": 0,
             "ticks": ""
            },
            "colorscale": [
             [
              0,
              "#0d0887"
             ],
             [
              0.1111111111111111,
              "#46039f"
             ],
             [
              0.2222222222222222,
              "#7201a8"
             ],
             [
              0.3333333333333333,
              "#9c179e"
             ],
             [
              0.4444444444444444,
              "#bd3786"
             ],
             [
              0.5555555555555556,
              "#d8576b"
             ],
             [
              0.6666666666666666,
              "#ed7953"
             ],
             [
              0.7777777777777778,
              "#fb9f3a"
             ],
             [
              0.8888888888888888,
              "#fdca26"
             ],
             [
              1,
              "#f0f921"
             ]
            ],
            "type": "surface"
           }
          ],
          "table": [
           {
            "cells": {
             "fill": {
              "color": "#EBF0F8"
             },
             "line": {
              "color": "white"
             }
            },
            "header": {
             "fill": {
              "color": "#C8D4E3"
             },
             "line": {
              "color": "white"
             }
            },
            "type": "table"
           }
          ]
         },
         "layout": {
          "annotationdefaults": {
           "arrowcolor": "#2a3f5f",
           "arrowhead": 0,
           "arrowwidth": 1
          },
          "autotypenumbers": "strict",
          "coloraxis": {
           "colorbar": {
            "outlinewidth": 0,
            "ticks": ""
           }
          },
          "colorscale": {
           "diverging": [
            [
             0,
             "#8e0152"
            ],
            [
             0.1,
             "#c51b7d"
            ],
            [
             0.2,
             "#de77ae"
            ],
            [
             0.3,
             "#f1b6da"
            ],
            [
             0.4,
             "#fde0ef"
            ],
            [
             0.5,
             "#f7f7f7"
            ],
            [
             0.6,
             "#e6f5d0"
            ],
            [
             0.7,
             "#b8e186"
            ],
            [
             0.8,
             "#7fbc41"
            ],
            [
             0.9,
             "#4d9221"
            ],
            [
             1,
             "#276419"
            ]
           ],
           "sequential": [
            [
             0,
             "#0d0887"
            ],
            [
             0.1111111111111111,
             "#46039f"
            ],
            [
             0.2222222222222222,
             "#7201a8"
            ],
            [
             0.3333333333333333,
             "#9c179e"
            ],
            [
             0.4444444444444444,
             "#bd3786"
            ],
            [
             0.5555555555555556,
             "#d8576b"
            ],
            [
             0.6666666666666666,
             "#ed7953"
            ],
            [
             0.7777777777777778,
             "#fb9f3a"
            ],
            [
             0.8888888888888888,
             "#fdca26"
            ],
            [
             1,
             "#f0f921"
            ]
           ],
           "sequentialminus": [
            [
             0,
             "#0d0887"
            ],
            [
             0.1111111111111111,
             "#46039f"
            ],
            [
             0.2222222222222222,
             "#7201a8"
            ],
            [
             0.3333333333333333,
             "#9c179e"
            ],
            [
             0.4444444444444444,
             "#bd3786"
            ],
            [
             0.5555555555555556,
             "#d8576b"
            ],
            [
             0.6666666666666666,
             "#ed7953"
            ],
            [
             0.7777777777777778,
             "#fb9f3a"
            ],
            [
             0.8888888888888888,
             "#fdca26"
            ],
            [
             1,
             "#f0f921"
            ]
           ]
          },
          "colorway": [
           "#636efa",
           "#EF553B",
           "#00cc96",
           "#ab63fa",
           "#FFA15A",
           "#19d3f3",
           "#FF6692",
           "#B6E880",
           "#FF97FF",
           "#FECB52"
          ],
          "font": {
           "color": "#2a3f5f"
          },
          "geo": {
           "bgcolor": "white",
           "lakecolor": "white",
           "landcolor": "#E5ECF6",
           "showlakes": true,
           "showland": true,
           "subunitcolor": "white"
          },
          "hoverlabel": {
           "align": "left"
          },
          "hovermode": "closest",
          "mapbox": {
           "style": "light"
          },
          "paper_bgcolor": "white",
          "plot_bgcolor": "#E5ECF6",
          "polar": {
           "angularaxis": {
            "gridcolor": "white",
            "linecolor": "white",
            "ticks": ""
           },
           "bgcolor": "#E5ECF6",
           "radialaxis": {
            "gridcolor": "white",
            "linecolor": "white",
            "ticks": ""
           }
          },
          "scene": {
           "xaxis": {
            "backgroundcolor": "#E5ECF6",
            "gridcolor": "white",
            "gridwidth": 2,
            "linecolor": "white",
            "showbackground": true,
            "ticks": "",
            "zerolinecolor": "white"
           },
           "yaxis": {
            "backgroundcolor": "#E5ECF6",
            "gridcolor": "white",
            "gridwidth": 2,
            "linecolor": "white",
            "showbackground": true,
            "ticks": "",
            "zerolinecolor": "white"
           },
           "zaxis": {
            "backgroundcolor": "#E5ECF6",
            "gridcolor": "white",
            "gridwidth": 2,
            "linecolor": "white",
            "showbackground": true,
            "ticks": "",
            "zerolinecolor": "white"
           }
          },
          "shapedefaults": {
           "line": {
            "color": "#2a3f5f"
           }
          },
          "ternary": {
           "aaxis": {
            "gridcolor": "white",
            "linecolor": "white",
            "ticks": ""
           },
           "baxis": {
            "gridcolor": "white",
            "linecolor": "white",
            "ticks": ""
           },
           "bgcolor": "#E5ECF6",
           "caxis": {
            "gridcolor": "white",
            "linecolor": "white",
            "ticks": ""
           }
          },
          "title": {
           "x": 0.05
          },
          "xaxis": {
           "automargin": true,
           "gridcolor": "white",
           "linecolor": "white",
           "ticks": "",
           "title": {
            "standoff": 15
           },
           "zerolinecolor": "white",
           "zerolinewidth": 2
          },
          "yaxis": {
           "automargin": true,
           "gridcolor": "white",
           "linecolor": "white",
           "ticks": "",
           "title": {
            "standoff": 15
           },
           "zerolinecolor": "white",
           "zerolinewidth": 2
          }
         }
        },
        "title": {
         "text": "Impact carbone des ingrédients en kg CO2"
        },
        "xaxis": {
         "anchor": "y",
         "domain": [
          0,
          1
         ],
         "title": {
          "text": "Ingrédients"
         }
        },
        "yaxis": {
         "anchor": "x",
         "domain": [
          0,
          1
         ],
         "title": {
          "text": ""
         }
        }
       }
      }
     },
     "metadata": {},
     "output_type": "display_data"
    }
   ],
   "source": [
    "import plotly.express as px\n",
    "\n",
    "# Noms des variables\n",
    "variables = [\"pommes\", \"crème fraîche\", \"pâte brisée\", \"sucre en poudre\", \"sucre vanillé\", \"oeufs\"]\n",
    "\n",
    "# Couleurs des barres\n",
    "couleurs = ['red', 'green', 'blue', 'orange', 'purple', 'yellow']\n",
    "\n",
    "# Créer le graphique en barres avec couleurs personnalisées\n",
    "fig = px.bar(x=variables, y=df_fusion[\"kg CO2 eq\"], color=couleurs)\n",
    "\n",
    "# Titre et étiquettes des axes\n",
    "fig.update_layout(title=\"Impact carbone des ingrédients en kg CO2\",\n",
    "                  xaxis_title=\"Ingrédients\",\n",
    "                  yaxis_title=\"\",\n",
    "                  showlegend=False) \n",
    "\n",
    "# Ajouter les valeurs sur les barres\n",
    "fig.update_traces(\n",
    "    texttemplate='%{y}',  # Format des valeurs\n",
    "    textposition='auto',  # Positionnement du texte\n",
    ")\n",
    "\n",
    "# Afficher le graphique\n",
    "fig.show()\n"
   ]
  },
  {
   "cell_type": "code",
   "execution_count": 14,
   "metadata": {},
   "outputs": [
    {
     "data": {
      "application/vnd.plotly.v1+json": {
       "config": {
        "plotlyServerURL": "https://plot.ly"
       },
       "data": [
        {
         "alignmentgroup": "True",
         "hovertemplate": "color=red<br>x=%{x}<br>y=%{y}<extra></extra>",
         "legendgroup": "red",
         "marker": {
          "color": "#636efa",
          "pattern": {
           "shape": ""
          }
         },
         "name": "red",
         "offsetgroup": "red",
         "orientation": "v",
         "showlegend": true,
         "textposition": "auto",
         "texttemplate": "%{y}",
         "type": "bar",
         "x": [
          "pommes"
         ],
         "xaxis": "x",
         "y": [
          0.21445860877364464
         ],
         "yaxis": "y"
        },
        {
         "alignmentgroup": "True",
         "hovertemplate": "color=green<br>x=%{x}<br>y=%{y}<extra></extra>",
         "legendgroup": "green",
         "marker": {
          "color": "#EF553B",
          "pattern": {
           "shape": ""
          }
         },
         "name": "green",
         "offsetgroup": "green",
         "orientation": "v",
         "showlegend": true,
         "textposition": "auto",
         "texttemplate": "%{y}",
         "type": "bar",
         "x": [
          "sucre en poudre"
         ],
         "xaxis": "x",
         "y": [
          0.16280398475125782
         ],
         "yaxis": "y"
        },
        {
         "alignmentgroup": "True",
         "hovertemplate": "color=blue<br>x=%{x}<br>y=%{y}<extra></extra>",
         "legendgroup": "blue",
         "marker": {
          "color": "#00cc96",
          "pattern": {
           "shape": ""
          }
         },
         "name": "blue",
         "offsetgroup": "blue",
         "orientation": "v",
         "showlegend": true,
         "textposition": "auto",
         "texttemplate": "%{y}",
         "type": "bar",
         "x": [
          "crème fraîche"
         ],
         "xaxis": "x",
         "y": [
          0.09785615560036845
         ],
         "yaxis": "y"
        },
        {
         "alignmentgroup": "True",
         "hovertemplate": "color=orange<br>x=%{x}<br>y=%{y}<extra></extra>",
         "legendgroup": "orange",
         "marker": {
          "color": "#ab63fa",
          "pattern": {
           "shape": ""
          }
         },
         "name": "orange",
         "offsetgroup": "orange",
         "orientation": "v",
         "showlegend": true,
         "textposition": "auto",
         "texttemplate": "%{y}",
         "type": "bar",
         "x": [
          "pâte brisée"
         ],
         "xaxis": "x",
         "y": [
          0.06049922630564439
         ],
         "yaxis": "y"
        },
        {
         "alignmentgroup": "True",
         "hovertemplate": "color=purple<br>x=%{x}<br>y=%{y}<extra></extra>",
         "legendgroup": "purple",
         "marker": {
          "color": "#FFA15A",
          "pattern": {
           "shape": ""
          }
         },
         "name": "purple",
         "offsetgroup": "purple",
         "orientation": "v",
         "showlegend": true,
         "textposition": "auto",
         "texttemplate": "%{y}",
         "type": "bar",
         "x": [
          "oeufs"
         ],
         "xaxis": "x",
         "y": [
          0.03130280783682072
         ],
         "yaxis": "y"
        },
        {
         "alignmentgroup": "True",
         "hovertemplate": "color=yellow<br>x=%{x}<br>y=%{y}<extra></extra>",
         "legendgroup": "yellow",
         "marker": {
          "color": "#19d3f3",
          "pattern": {
           "shape": ""
          }
         },
         "name": "yellow",
         "offsetgroup": "yellow",
         "orientation": "v",
         "showlegend": true,
         "textposition": "auto",
         "texttemplate": "%{y}",
         "type": "bar",
         "x": [
          "sucre vanillé"
         ],
         "xaxis": "x",
         "y": [
          0.01628039847512578
         ],
         "yaxis": "y"
        }
       ],
       "layout": {
        "barmode": "relative",
        "legend": {
         "title": {
          "text": "color"
         },
         "tracegroupgap": 0
        },
        "margin": {
         "t": 60
        },
        "showlegend": false,
        "template": {
         "data": {
          "bar": [
           {
            "error_x": {
             "color": "#2a3f5f"
            },
            "error_y": {
             "color": "#2a3f5f"
            },
            "marker": {
             "line": {
              "color": "#E5ECF6",
              "width": 0.5
             },
             "pattern": {
              "fillmode": "overlay",
              "size": 10,
              "solidity": 0.2
             }
            },
            "type": "bar"
           }
          ],
          "barpolar": [
           {
            "marker": {
             "line": {
              "color": "#E5ECF6",
              "width": 0.5
             },
             "pattern": {
              "fillmode": "overlay",
              "size": 10,
              "solidity": 0.2
             }
            },
            "type": "barpolar"
           }
          ],
          "carpet": [
           {
            "aaxis": {
             "endlinecolor": "#2a3f5f",
             "gridcolor": "white",
             "linecolor": "white",
             "minorgridcolor": "white",
             "startlinecolor": "#2a3f5f"
            },
            "baxis": {
             "endlinecolor": "#2a3f5f",
             "gridcolor": "white",
             "linecolor": "white",
             "minorgridcolor": "white",
             "startlinecolor": "#2a3f5f"
            },
            "type": "carpet"
           }
          ],
          "choropleth": [
           {
            "colorbar": {
             "outlinewidth": 0,
             "ticks": ""
            },
            "type": "choropleth"
           }
          ],
          "contour": [
           {
            "colorbar": {
             "outlinewidth": 0,
             "ticks": ""
            },
            "colorscale": [
             [
              0,
              "#0d0887"
             ],
             [
              0.1111111111111111,
              "#46039f"
             ],
             [
              0.2222222222222222,
              "#7201a8"
             ],
             [
              0.3333333333333333,
              "#9c179e"
             ],
             [
              0.4444444444444444,
              "#bd3786"
             ],
             [
              0.5555555555555556,
              "#d8576b"
             ],
             [
              0.6666666666666666,
              "#ed7953"
             ],
             [
              0.7777777777777778,
              "#fb9f3a"
             ],
             [
              0.8888888888888888,
              "#fdca26"
             ],
             [
              1,
              "#f0f921"
             ]
            ],
            "type": "contour"
           }
          ],
          "contourcarpet": [
           {
            "colorbar": {
             "outlinewidth": 0,
             "ticks": ""
            },
            "type": "contourcarpet"
           }
          ],
          "heatmap": [
           {
            "colorbar": {
             "outlinewidth": 0,
             "ticks": ""
            },
            "colorscale": [
             [
              0,
              "#0d0887"
             ],
             [
              0.1111111111111111,
              "#46039f"
             ],
             [
              0.2222222222222222,
              "#7201a8"
             ],
             [
              0.3333333333333333,
              "#9c179e"
             ],
             [
              0.4444444444444444,
              "#bd3786"
             ],
             [
              0.5555555555555556,
              "#d8576b"
             ],
             [
              0.6666666666666666,
              "#ed7953"
             ],
             [
              0.7777777777777778,
              "#fb9f3a"
             ],
             [
              0.8888888888888888,
              "#fdca26"
             ],
             [
              1,
              "#f0f921"
             ]
            ],
            "type": "heatmap"
           }
          ],
          "heatmapgl": [
           {
            "colorbar": {
             "outlinewidth": 0,
             "ticks": ""
            },
            "colorscale": [
             [
              0,
              "#0d0887"
             ],
             [
              0.1111111111111111,
              "#46039f"
             ],
             [
              0.2222222222222222,
              "#7201a8"
             ],
             [
              0.3333333333333333,
              "#9c179e"
             ],
             [
              0.4444444444444444,
              "#bd3786"
             ],
             [
              0.5555555555555556,
              "#d8576b"
             ],
             [
              0.6666666666666666,
              "#ed7953"
             ],
             [
              0.7777777777777778,
              "#fb9f3a"
             ],
             [
              0.8888888888888888,
              "#fdca26"
             ],
             [
              1,
              "#f0f921"
             ]
            ],
            "type": "heatmapgl"
           }
          ],
          "histogram": [
           {
            "marker": {
             "pattern": {
              "fillmode": "overlay",
              "size": 10,
              "solidity": 0.2
             }
            },
            "type": "histogram"
           }
          ],
          "histogram2d": [
           {
            "colorbar": {
             "outlinewidth": 0,
             "ticks": ""
            },
            "colorscale": [
             [
              0,
              "#0d0887"
             ],
             [
              0.1111111111111111,
              "#46039f"
             ],
             [
              0.2222222222222222,
              "#7201a8"
             ],
             [
              0.3333333333333333,
              "#9c179e"
             ],
             [
              0.4444444444444444,
              "#bd3786"
             ],
             [
              0.5555555555555556,
              "#d8576b"
             ],
             [
              0.6666666666666666,
              "#ed7953"
             ],
             [
              0.7777777777777778,
              "#fb9f3a"
             ],
             [
              0.8888888888888888,
              "#fdca26"
             ],
             [
              1,
              "#f0f921"
             ]
            ],
            "type": "histogram2d"
           }
          ],
          "histogram2dcontour": [
           {
            "colorbar": {
             "outlinewidth": 0,
             "ticks": ""
            },
            "colorscale": [
             [
              0,
              "#0d0887"
             ],
             [
              0.1111111111111111,
              "#46039f"
             ],
             [
              0.2222222222222222,
              "#7201a8"
             ],
             [
              0.3333333333333333,
              "#9c179e"
             ],
             [
              0.4444444444444444,
              "#bd3786"
             ],
             [
              0.5555555555555556,
              "#d8576b"
             ],
             [
              0.6666666666666666,
              "#ed7953"
             ],
             [
              0.7777777777777778,
              "#fb9f3a"
             ],
             [
              0.8888888888888888,
              "#fdca26"
             ],
             [
              1,
              "#f0f921"
             ]
            ],
            "type": "histogram2dcontour"
           }
          ],
          "mesh3d": [
           {
            "colorbar": {
             "outlinewidth": 0,
             "ticks": ""
            },
            "type": "mesh3d"
           }
          ],
          "parcoords": [
           {
            "line": {
             "colorbar": {
              "outlinewidth": 0,
              "ticks": ""
             }
            },
            "type": "parcoords"
           }
          ],
          "pie": [
           {
            "automargin": true,
            "type": "pie"
           }
          ],
          "scatter": [
           {
            "fillpattern": {
             "fillmode": "overlay",
             "size": 10,
             "solidity": 0.2
            },
            "type": "scatter"
           }
          ],
          "scatter3d": [
           {
            "line": {
             "colorbar": {
              "outlinewidth": 0,
              "ticks": ""
             }
            },
            "marker": {
             "colorbar": {
              "outlinewidth": 0,
              "ticks": ""
             }
            },
            "type": "scatter3d"
           }
          ],
          "scattercarpet": [
           {
            "marker": {
             "colorbar": {
              "outlinewidth": 0,
              "ticks": ""
             }
            },
            "type": "scattercarpet"
           }
          ],
          "scattergeo": [
           {
            "marker": {
             "colorbar": {
              "outlinewidth": 0,
              "ticks": ""
             }
            },
            "type": "scattergeo"
           }
          ],
          "scattergl": [
           {
            "marker": {
             "colorbar": {
              "outlinewidth": 0,
              "ticks": ""
             }
            },
            "type": "scattergl"
           }
          ],
          "scattermapbox": [
           {
            "marker": {
             "colorbar": {
              "outlinewidth": 0,
              "ticks": ""
             }
            },
            "type": "scattermapbox"
           }
          ],
          "scatterpolar": [
           {
            "marker": {
             "colorbar": {
              "outlinewidth": 0,
              "ticks": ""
             }
            },
            "type": "scatterpolar"
           }
          ],
          "scatterpolargl": [
           {
            "marker": {
             "colorbar": {
              "outlinewidth": 0,
              "ticks": ""
             }
            },
            "type": "scatterpolargl"
           }
          ],
          "scatterternary": [
           {
            "marker": {
             "colorbar": {
              "outlinewidth": 0,
              "ticks": ""
             }
            },
            "type": "scatterternary"
           }
          ],
          "surface": [
           {
            "colorbar": {
             "outlinewidth": 0,
             "ticks": ""
            },
            "colorscale": [
             [
              0,
              "#0d0887"
             ],
             [
              0.1111111111111111,
              "#46039f"
             ],
             [
              0.2222222222222222,
              "#7201a8"
             ],
             [
              0.3333333333333333,
              "#9c179e"
             ],
             [
              0.4444444444444444,
              "#bd3786"
             ],
             [
              0.5555555555555556,
              "#d8576b"
             ],
             [
              0.6666666666666666,
              "#ed7953"
             ],
             [
              0.7777777777777778,
              "#fb9f3a"
             ],
             [
              0.8888888888888888,
              "#fdca26"
             ],
             [
              1,
              "#f0f921"
             ]
            ],
            "type": "surface"
           }
          ],
          "table": [
           {
            "cells": {
             "fill": {
              "color": "#EBF0F8"
             },
             "line": {
              "color": "white"
             }
            },
            "header": {
             "fill": {
              "color": "#C8D4E3"
             },
             "line": {
              "color": "white"
             }
            },
            "type": "table"
           }
          ]
         },
         "layout": {
          "annotationdefaults": {
           "arrowcolor": "#2a3f5f",
           "arrowhead": 0,
           "arrowwidth": 1
          },
          "autotypenumbers": "strict",
          "coloraxis": {
           "colorbar": {
            "outlinewidth": 0,
            "ticks": ""
           }
          },
          "colorscale": {
           "diverging": [
            [
             0,
             "#8e0152"
            ],
            [
             0.1,
             "#c51b7d"
            ],
            [
             0.2,
             "#de77ae"
            ],
            [
             0.3,
             "#f1b6da"
            ],
            [
             0.4,
             "#fde0ef"
            ],
            [
             0.5,
             "#f7f7f7"
            ],
            [
             0.6,
             "#e6f5d0"
            ],
            [
             0.7,
             "#b8e186"
            ],
            [
             0.8,
             "#7fbc41"
            ],
            [
             0.9,
             "#4d9221"
            ],
            [
             1,
             "#276419"
            ]
           ],
           "sequential": [
            [
             0,
             "#0d0887"
            ],
            [
             0.1111111111111111,
             "#46039f"
            ],
            [
             0.2222222222222222,
             "#7201a8"
            ],
            [
             0.3333333333333333,
             "#9c179e"
            ],
            [
             0.4444444444444444,
             "#bd3786"
            ],
            [
             0.5555555555555556,
             "#d8576b"
            ],
            [
             0.6666666666666666,
             "#ed7953"
            ],
            [
             0.7777777777777778,
             "#fb9f3a"
            ],
            [
             0.8888888888888888,
             "#fdca26"
            ],
            [
             1,
             "#f0f921"
            ]
           ],
           "sequentialminus": [
            [
             0,
             "#0d0887"
            ],
            [
             0.1111111111111111,
             "#46039f"
            ],
            [
             0.2222222222222222,
             "#7201a8"
            ],
            [
             0.3333333333333333,
             "#9c179e"
            ],
            [
             0.4444444444444444,
             "#bd3786"
            ],
            [
             0.5555555555555556,
             "#d8576b"
            ],
            [
             0.6666666666666666,
             "#ed7953"
            ],
            [
             0.7777777777777778,
             "#fb9f3a"
            ],
            [
             0.8888888888888888,
             "#fdca26"
            ],
            [
             1,
             "#f0f921"
            ]
           ]
          },
          "colorway": [
           "#636efa",
           "#EF553B",
           "#00cc96",
           "#ab63fa",
           "#FFA15A",
           "#19d3f3",
           "#FF6692",
           "#B6E880",
           "#FF97FF",
           "#FECB52"
          ],
          "font": {
           "color": "#2a3f5f"
          },
          "geo": {
           "bgcolor": "white",
           "lakecolor": "white",
           "landcolor": "#E5ECF6",
           "showlakes": true,
           "showland": true,
           "subunitcolor": "white"
          },
          "hoverlabel": {
           "align": "left"
          },
          "hovermode": "closest",
          "mapbox": {
           "style": "light"
          },
          "paper_bgcolor": "white",
          "plot_bgcolor": "#E5ECF6",
          "polar": {
           "angularaxis": {
            "gridcolor": "white",
            "linecolor": "white",
            "ticks": ""
           },
           "bgcolor": "#E5ECF6",
           "radialaxis": {
            "gridcolor": "white",
            "linecolor": "white",
            "ticks": ""
           }
          },
          "scene": {
           "xaxis": {
            "backgroundcolor": "#E5ECF6",
            "gridcolor": "white",
            "gridwidth": 2,
            "linecolor": "white",
            "showbackground": true,
            "ticks": "",
            "zerolinecolor": "white"
           },
           "yaxis": {
            "backgroundcolor": "#E5ECF6",
            "gridcolor": "white",
            "gridwidth": 2,
            "linecolor": "white",
            "showbackground": true,
            "ticks": "",
            "zerolinecolor": "white"
           },
           "zaxis": {
            "backgroundcolor": "#E5ECF6",
            "gridcolor": "white",
            "gridwidth": 2,
            "linecolor": "white",
            "showbackground": true,
            "ticks": "",
            "zerolinecolor": "white"
           }
          },
          "shapedefaults": {
           "line": {
            "color": "#2a3f5f"
           }
          },
          "ternary": {
           "aaxis": {
            "gridcolor": "white",
            "linecolor": "white",
            "ticks": ""
           },
           "baxis": {
            "gridcolor": "white",
            "linecolor": "white",
            "ticks": ""
           },
           "bgcolor": "#E5ECF6",
           "caxis": {
            "gridcolor": "white",
            "linecolor": "white",
            "ticks": ""
           }
          },
          "title": {
           "x": 0.05
          },
          "xaxis": {
           "automargin": true,
           "gridcolor": "white",
           "linecolor": "white",
           "ticks": "",
           "title": {
            "standoff": 15
           },
           "zerolinecolor": "white",
           "zerolinewidth": 2
          },
          "yaxis": {
           "automargin": true,
           "gridcolor": "white",
           "linecolor": "white",
           "ticks": "",
           "title": {
            "standoff": 15
           },
           "zerolinecolor": "white",
           "zerolinewidth": 2
          }
         }
        },
        "title": {
         "text": "Impact carbone des ingrédients en kg CO2"
        },
        "xaxis": {
         "anchor": "y",
         "domain": [
          0,
          1
         ],
         "title": {
          "text": "Ingrédients"
         }
        },
        "yaxis": {
         "anchor": "x",
         "domain": [
          0,
          1
         ],
         "title": {
          "text": ""
         }
        }
       }
      }
     },
     "metadata": {},
     "output_type": "display_data"
    }
   ],
   "source": [
    "import plotly.express as px\n",
    "\n",
    "# Trier le DataFrame par ordre décroissant en fonction de la colonne \"kg CO2 eq\"\n",
    "df_fusion_sorted = df_fusion.sort_values(\"kg CO2 eq\", ascending=False)\n",
    "\n",
    "# Noms des variables\n",
    "variables = df_fusion_sorted[\"ingredient\"]\n",
    "\n",
    "# Couleurs des barres\n",
    "couleurs = ['red', 'green', 'blue', 'orange', 'purple', 'yellow']\n",
    "\n",
    "# Créer le graphique en barres avec couleurs personnalisées\n",
    "fig = px.bar(x=variables, y=df_fusion_sorted[\"kg CO2 eq\"], color=couleurs)\n",
    "\n",
    "# Titre et étiquettes des axes\n",
    "fig.update_layout(title=\"Impact carbone des ingrédients en kg CO2\",\n",
    "                  xaxis_title=\"Ingrédients\",\n",
    "                  yaxis_title=\"\",\n",
    "                  showlegend=False) \n",
    "\n",
    "# Ajouter les valeurs sur les barres\n",
    "fig.update_traces(\n",
    "    texttemplate='%{y}',  # Format des valeurs\n",
    "    textposition='auto',  # Positionnement du texte\n",
    ")\n",
    "\n",
    "# Afficher le graphique\n",
    "fig.show()"
   ]
  },
  {
   "cell_type": "code",
   "execution_count": 18,
   "metadata": {},
   "outputs": [
    {
     "data": {
      "application/vnd.plotly.v1+json": {
       "config": {
        "plotlyServerURL": "https://plot.ly"
       },
       "data": [
        {
         "customdata": [
          [
           "pommes"
          ],
          [
           "sucre en poudre"
          ],
          [
           "crème fraîche"
          ],
          [
           "pâte brisée"
          ],
          [
           "oeufs"
          ],
          [
           "sucre vanillé"
          ]
         ],
         "domain": {
          "x": [
           0,
           1
          ],
          "y": [
           0,
           1
          ]
         },
         "hovertemplate": "label=%{label}<br>value=%{value}<br>color=%{customdata[0]}<extra></extra>",
         "labels": [
          "pommes",
          "sucre en poudre",
          "crème fraîche",
          "pâte brisée",
          "oeufs",
          "sucre vanillé"
         ],
         "legendgroup": "",
         "marker": {
          "colors": [
           "rgb(141,211,199)",
           "rgb(255,255,179)",
           "rgb(190,186,218)",
           "rgb(251,128,114)",
           "rgb(128,177,211)",
           "rgb(253,180,98)"
          ]
         },
         "name": "",
         "showlegend": true,
         "type": "pie",
         "values": [
          0.21445860877364464,
          0.16280398475125782,
          0.09785615560036845,
          0.06049922630564439,
          0.03130280783682072,
          0.01628039847512578
         ]
        }
       ],
       "layout": {
        "legend": {
         "tracegroupgap": 0
        },
        "margin": {
         "t": 60
        },
        "piecolorway": [
         "rgb(141,211,199)",
         "rgb(255,255,179)",
         "rgb(190,186,218)",
         "rgb(251,128,114)",
         "rgb(128,177,211)",
         "rgb(253,180,98)",
         "rgb(179,222,105)",
         "rgb(252,205,229)",
         "rgb(217,217,217)",
         "rgb(188,128,189)",
         "rgb(204,235,197)",
         "rgb(255,237,111)"
        ],
        "template": {
         "data": {
          "bar": [
           {
            "error_x": {
             "color": "#2a3f5f"
            },
            "error_y": {
             "color": "#2a3f5f"
            },
            "marker": {
             "line": {
              "color": "#E5ECF6",
              "width": 0.5
             },
             "pattern": {
              "fillmode": "overlay",
              "size": 10,
              "solidity": 0.2
             }
            },
            "type": "bar"
           }
          ],
          "barpolar": [
           {
            "marker": {
             "line": {
              "color": "#E5ECF6",
              "width": 0.5
             },
             "pattern": {
              "fillmode": "overlay",
              "size": 10,
              "solidity": 0.2
             }
            },
            "type": "barpolar"
           }
          ],
          "carpet": [
           {
            "aaxis": {
             "endlinecolor": "#2a3f5f",
             "gridcolor": "white",
             "linecolor": "white",
             "minorgridcolor": "white",
             "startlinecolor": "#2a3f5f"
            },
            "baxis": {
             "endlinecolor": "#2a3f5f",
             "gridcolor": "white",
             "linecolor": "white",
             "minorgridcolor": "white",
             "startlinecolor": "#2a3f5f"
            },
            "type": "carpet"
           }
          ],
          "choropleth": [
           {
            "colorbar": {
             "outlinewidth": 0,
             "ticks": ""
            },
            "type": "choropleth"
           }
          ],
          "contour": [
           {
            "colorbar": {
             "outlinewidth": 0,
             "ticks": ""
            },
            "colorscale": [
             [
              0,
              "#0d0887"
             ],
             [
              0.1111111111111111,
              "#46039f"
             ],
             [
              0.2222222222222222,
              "#7201a8"
             ],
             [
              0.3333333333333333,
              "#9c179e"
             ],
             [
              0.4444444444444444,
              "#bd3786"
             ],
             [
              0.5555555555555556,
              "#d8576b"
             ],
             [
              0.6666666666666666,
              "#ed7953"
             ],
             [
              0.7777777777777778,
              "#fb9f3a"
             ],
             [
              0.8888888888888888,
              "#fdca26"
             ],
             [
              1,
              "#f0f921"
             ]
            ],
            "type": "contour"
           }
          ],
          "contourcarpet": [
           {
            "colorbar": {
             "outlinewidth": 0,
             "ticks": ""
            },
            "type": "contourcarpet"
           }
          ],
          "heatmap": [
           {
            "colorbar": {
             "outlinewidth": 0,
             "ticks": ""
            },
            "colorscale": [
             [
              0,
              "#0d0887"
             ],
             [
              0.1111111111111111,
              "#46039f"
             ],
             [
              0.2222222222222222,
              "#7201a8"
             ],
             [
              0.3333333333333333,
              "#9c179e"
             ],
             [
              0.4444444444444444,
              "#bd3786"
             ],
             [
              0.5555555555555556,
              "#d8576b"
             ],
             [
              0.6666666666666666,
              "#ed7953"
             ],
             [
              0.7777777777777778,
              "#fb9f3a"
             ],
             [
              0.8888888888888888,
              "#fdca26"
             ],
             [
              1,
              "#f0f921"
             ]
            ],
            "type": "heatmap"
           }
          ],
          "heatmapgl": [
           {
            "colorbar": {
             "outlinewidth": 0,
             "ticks": ""
            },
            "colorscale": [
             [
              0,
              "#0d0887"
             ],
             [
              0.1111111111111111,
              "#46039f"
             ],
             [
              0.2222222222222222,
              "#7201a8"
             ],
             [
              0.3333333333333333,
              "#9c179e"
             ],
             [
              0.4444444444444444,
              "#bd3786"
             ],
             [
              0.5555555555555556,
              "#d8576b"
             ],
             [
              0.6666666666666666,
              "#ed7953"
             ],
             [
              0.7777777777777778,
              "#fb9f3a"
             ],
             [
              0.8888888888888888,
              "#fdca26"
             ],
             [
              1,
              "#f0f921"
             ]
            ],
            "type": "heatmapgl"
           }
          ],
          "histogram": [
           {
            "marker": {
             "pattern": {
              "fillmode": "overlay",
              "size": 10,
              "solidity": 0.2
             }
            },
            "type": "histogram"
           }
          ],
          "histogram2d": [
           {
            "colorbar": {
             "outlinewidth": 0,
             "ticks": ""
            },
            "colorscale": [
             [
              0,
              "#0d0887"
             ],
             [
              0.1111111111111111,
              "#46039f"
             ],
             [
              0.2222222222222222,
              "#7201a8"
             ],
             [
              0.3333333333333333,
              "#9c179e"
             ],
             [
              0.4444444444444444,
              "#bd3786"
             ],
             [
              0.5555555555555556,
              "#d8576b"
             ],
             [
              0.6666666666666666,
              "#ed7953"
             ],
             [
              0.7777777777777778,
              "#fb9f3a"
             ],
             [
              0.8888888888888888,
              "#fdca26"
             ],
             [
              1,
              "#f0f921"
             ]
            ],
            "type": "histogram2d"
           }
          ],
          "histogram2dcontour": [
           {
            "colorbar": {
             "outlinewidth": 0,
             "ticks": ""
            },
            "colorscale": [
             [
              0,
              "#0d0887"
             ],
             [
              0.1111111111111111,
              "#46039f"
             ],
             [
              0.2222222222222222,
              "#7201a8"
             ],
             [
              0.3333333333333333,
              "#9c179e"
             ],
             [
              0.4444444444444444,
              "#bd3786"
             ],
             [
              0.5555555555555556,
              "#d8576b"
             ],
             [
              0.6666666666666666,
              "#ed7953"
             ],
             [
              0.7777777777777778,
              "#fb9f3a"
             ],
             [
              0.8888888888888888,
              "#fdca26"
             ],
             [
              1,
              "#f0f921"
             ]
            ],
            "type": "histogram2dcontour"
           }
          ],
          "mesh3d": [
           {
            "colorbar": {
             "outlinewidth": 0,
             "ticks": ""
            },
            "type": "mesh3d"
           }
          ],
          "parcoords": [
           {
            "line": {
             "colorbar": {
              "outlinewidth": 0,
              "ticks": ""
             }
            },
            "type": "parcoords"
           }
          ],
          "pie": [
           {
            "automargin": true,
            "type": "pie"
           }
          ],
          "scatter": [
           {
            "fillpattern": {
             "fillmode": "overlay",
             "size": 10,
             "solidity": 0.2
            },
            "type": "scatter"
           }
          ],
          "scatter3d": [
           {
            "line": {
             "colorbar": {
              "outlinewidth": 0,
              "ticks": ""
             }
            },
            "marker": {
             "colorbar": {
              "outlinewidth": 0,
              "ticks": ""
             }
            },
            "type": "scatter3d"
           }
          ],
          "scattercarpet": [
           {
            "marker": {
             "colorbar": {
              "outlinewidth": 0,
              "ticks": ""
             }
            },
            "type": "scattercarpet"
           }
          ],
          "scattergeo": [
           {
            "marker": {
             "colorbar": {
              "outlinewidth": 0,
              "ticks": ""
             }
            },
            "type": "scattergeo"
           }
          ],
          "scattergl": [
           {
            "marker": {
             "colorbar": {
              "outlinewidth": 0,
              "ticks": ""
             }
            },
            "type": "scattergl"
           }
          ],
          "scattermapbox": [
           {
            "marker": {
             "colorbar": {
              "outlinewidth": 0,
              "ticks": ""
             }
            },
            "type": "scattermapbox"
           }
          ],
          "scatterpolar": [
           {
            "marker": {
             "colorbar": {
              "outlinewidth": 0,
              "ticks": ""
             }
            },
            "type": "scatterpolar"
           }
          ],
          "scatterpolargl": [
           {
            "marker": {
             "colorbar": {
              "outlinewidth": 0,
              "ticks": ""
             }
            },
            "type": "scatterpolargl"
           }
          ],
          "scatterternary": [
           {
            "marker": {
             "colorbar": {
              "outlinewidth": 0,
              "ticks": ""
             }
            },
            "type": "scatterternary"
           }
          ],
          "surface": [
           {
            "colorbar": {
             "outlinewidth": 0,
             "ticks": ""
            },
            "colorscale": [
             [
              0,
              "#0d0887"
             ],
             [
              0.1111111111111111,
              "#46039f"
             ],
             [
              0.2222222222222222,
              "#7201a8"
             ],
             [
              0.3333333333333333,
              "#9c179e"
             ],
             [
              0.4444444444444444,
              "#bd3786"
             ],
             [
              0.5555555555555556,
              "#d8576b"
             ],
             [
              0.6666666666666666,
              "#ed7953"
             ],
             [
              0.7777777777777778,
              "#fb9f3a"
             ],
             [
              0.8888888888888888,
              "#fdca26"
             ],
             [
              1,
              "#f0f921"
             ]
            ],
            "type": "surface"
           }
          ],
          "table": [
           {
            "cells": {
             "fill": {
              "color": "#EBF0F8"
             },
             "line": {
              "color": "white"
             }
            },
            "header": {
             "fill": {
              "color": "#C8D4E3"
             },
             "line": {
              "color": "white"
             }
            },
            "type": "table"
           }
          ]
         },
         "layout": {
          "annotationdefaults": {
           "arrowcolor": "#2a3f5f",
           "arrowhead": 0,
           "arrowwidth": 1
          },
          "autotypenumbers": "strict",
          "coloraxis": {
           "colorbar": {
            "outlinewidth": 0,
            "ticks": ""
           }
          },
          "colorscale": {
           "diverging": [
            [
             0,
             "#8e0152"
            ],
            [
             0.1,
             "#c51b7d"
            ],
            [
             0.2,
             "#de77ae"
            ],
            [
             0.3,
             "#f1b6da"
            ],
            [
             0.4,
             "#fde0ef"
            ],
            [
             0.5,
             "#f7f7f7"
            ],
            [
             0.6,
             "#e6f5d0"
            ],
            [
             0.7,
             "#b8e186"
            ],
            [
             0.8,
             "#7fbc41"
            ],
            [
             0.9,
             "#4d9221"
            ],
            [
             1,
             "#276419"
            ]
           ],
           "sequential": [
            [
             0,
             "#0d0887"
            ],
            [
             0.1111111111111111,
             "#46039f"
            ],
            [
             0.2222222222222222,
             "#7201a8"
            ],
            [
             0.3333333333333333,
             "#9c179e"
            ],
            [
             0.4444444444444444,
             "#bd3786"
            ],
            [
             0.5555555555555556,
             "#d8576b"
            ],
            [
             0.6666666666666666,
             "#ed7953"
            ],
            [
             0.7777777777777778,
             "#fb9f3a"
            ],
            [
             0.8888888888888888,
             "#fdca26"
            ],
            [
             1,
             "#f0f921"
            ]
           ],
           "sequentialminus": [
            [
             0,
             "#0d0887"
            ],
            [
             0.1111111111111111,
             "#46039f"
            ],
            [
             0.2222222222222222,
             "#7201a8"
            ],
            [
             0.3333333333333333,
             "#9c179e"
            ],
            [
             0.4444444444444444,
             "#bd3786"
            ],
            [
             0.5555555555555556,
             "#d8576b"
            ],
            [
             0.6666666666666666,
             "#ed7953"
            ],
            [
             0.7777777777777778,
             "#fb9f3a"
            ],
            [
             0.8888888888888888,
             "#fdca26"
            ],
            [
             1,
             "#f0f921"
            ]
           ]
          },
          "colorway": [
           "#636efa",
           "#EF553B",
           "#00cc96",
           "#ab63fa",
           "#FFA15A",
           "#19d3f3",
           "#FF6692",
           "#B6E880",
           "#FF97FF",
           "#FECB52"
          ],
          "font": {
           "color": "#2a3f5f"
          },
          "geo": {
           "bgcolor": "white",
           "lakecolor": "white",
           "landcolor": "#E5ECF6",
           "showlakes": true,
           "showland": true,
           "subunitcolor": "white"
          },
          "hoverlabel": {
           "align": "left"
          },
          "hovermode": "closest",
          "mapbox": {
           "style": "light"
          },
          "paper_bgcolor": "white",
          "plot_bgcolor": "#E5ECF6",
          "polar": {
           "angularaxis": {
            "gridcolor": "white",
            "linecolor": "white",
            "ticks": ""
           },
           "bgcolor": "#E5ECF6",
           "radialaxis": {
            "gridcolor": "white",
            "linecolor": "white",
            "ticks": ""
           }
          },
          "scene": {
           "xaxis": {
            "backgroundcolor": "#E5ECF6",
            "gridcolor": "white",
            "gridwidth": 2,
            "linecolor": "white",
            "showbackground": true,
            "ticks": "",
            "zerolinecolor": "white"
           },
           "yaxis": {
            "backgroundcolor": "#E5ECF6",
            "gridcolor": "white",
            "gridwidth": 2,
            "linecolor": "white",
            "showbackground": true,
            "ticks": "",
            "zerolinecolor": "white"
           },
           "zaxis": {
            "backgroundcolor": "#E5ECF6",
            "gridcolor": "white",
            "gridwidth": 2,
            "linecolor": "white",
            "showbackground": true,
            "ticks": "",
            "zerolinecolor": "white"
           }
          },
          "shapedefaults": {
           "line": {
            "color": "#2a3f5f"
           }
          },
          "ternary": {
           "aaxis": {
            "gridcolor": "white",
            "linecolor": "white",
            "ticks": ""
           },
           "baxis": {
            "gridcolor": "white",
            "linecolor": "white",
            "ticks": ""
           },
           "bgcolor": "#E5ECF6",
           "caxis": {
            "gridcolor": "white",
            "linecolor": "white",
            "ticks": ""
           }
          },
          "title": {
           "x": 0.05
          },
          "xaxis": {
           "automargin": true,
           "gridcolor": "white",
           "linecolor": "white",
           "ticks": "",
           "title": {
            "standoff": 15
           },
           "zerolinecolor": "white",
           "zerolinewidth": 2
          },
          "yaxis": {
           "automargin": true,
           "gridcolor": "white",
           "linecolor": "white",
           "ticks": "",
           "title": {
            "standoff": 15
           },
           "zerolinecolor": "white",
           "zerolinewidth": 2
          }
         }
        },
        "title": {
         "text": "Impact carbone des ingrédients en kg CO2"
        }
       }
      }
     },
     "metadata": {},
     "output_type": "display_data"
    }
   ],
   "source": [
    "import plotly.express as px\n",
    "\n",
    "# Trier le DataFrame par ordre décroissant en fonction de la colonne \"kg CO2 eq\"\n",
    "df_fusion_sorted = df_fusion.sort_values(\"kg CO2 eq\", ascending=False)\n",
    "\n",
    "# Noms des variables\n",
    "variables = df_fusion_sorted[\"ingredient\"]\n",
    "\n",
    "# Valeurs correspondantes\n",
    "valeurs = df_fusion_sorted[\"kg CO2 eq\"]\n",
    "\n",
    "# Créer le graphique en camembert avec couleurs personnalisées\n",
    "fig = px.pie(names=variables, values=valeurs, color=variables, color_discrete_sequence=px.colors.qualitative.Set3)\n",
    "\n",
    "# Titre du graphique\n",
    "fig.update_layout(title=\"Impact carbone des ingrédients en kg CO2\")\n",
    "\n",
    "# Afficher le graphique\n",
    "fig.show()\n"
   ]
  }
 ],
 "metadata": {
  "kernelspec": {
   "display_name": "venv",
   "language": "python",
   "name": "python3"
  },
  "language_info": {
   "codemirror_mode": {
    "name": "ipython",
    "version": 3
   },
   "file_extension": ".py",
   "mimetype": "text/x-python",
   "name": "python",
   "nbconvert_exporter": "python",
   "pygments_lexer": "ipython3",
   "version": "3.10.9"
  },
  "orig_nbformat": 4
 },
 "nbformat": 4,
 "nbformat_minor": 2
}
